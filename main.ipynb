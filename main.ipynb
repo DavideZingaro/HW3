{
 "cells": [
  {
   "cell_type": "markdown",
   "metadata": {},
   "source": [
    "###### You may have to download some packages imported"
   ]
  },
  {
   "cell_type": "code",
   "execution_count": 1,
   "metadata": {},
   "outputs": [],
   "source": [
    "from lxml import html\n",
    "from bs4 import BeautifulSoup\n",
    "import requests\n",
    "import urllib.request\n",
    "import bs4\n",
    "import csv\n",
    "import pandas as pd\n",
    "import nltk\n",
    "from nltk.tokenize import sent_tokenize, word_tokenize\n",
    "from nltk.corpus import stopwords\n",
    "from nltk.stem import PorterStemmer\n",
    "import string\n",
    "import math\n",
    "from sklearn.metrics.pairwise import cosine_similarity\n",
    "import numpy as np\n",
    "from tqdm import tqdm\n",
    "import pickle\n",
    "from heapq import heappush, nlargest\n",
    "import heapq\n",
    "\n",
    "import ipywidgets as widgets\n",
    "import parser_utils\n",
    "import collector_utils\n",
    "import index_utils\n",
    "import utils\n",
    "import main"
   ]
  },
  {
   "cell_type": "markdown",
   "metadata": {},
   "source": [
    "# 1. Data collection"
   ]
  },
  {
   "cell_type": "markdown",
   "metadata": {},
   "source": [
    "### 1.1. Get the list of the movies"
   ]
  },
  {
   "cell_type": "markdown",
   "metadata": {
    "scrolled": false
   },
   "source": [
    "#We run this comman only once to get the links from movie1-2-3.html and save the list in a file\n",
    "\n",
    "links = collector_utils.get_links('movies1.html', 'movies2.html', 'movies3.html')\n",
    "\n",
    "with open('data/links_list.pickle', 'wb') as fp:\n",
    "    pickle.dump(links, fp)\n"
   ]
  },
  {
   "cell_type": "code",
   "execution_count": 3,
   "metadata": {},
   "outputs": [],
   "source": [
    "# take the list from the file created before\n",
    "with open('data/links_list.pickle', 'rb') as f:\n",
    "    links = pickle.load(f)"
   ]
  },
  {
   "cell_type": "markdown",
   "metadata": {},
   "source": [
    "### 1.2. Crawl Wikipedia"
   ]
  },
  {
   "cell_type": "code",
   "execution_count": 5,
   "metadata": {
    "collapsed": true
   },
   "outputs": [
    {
     "name": "stderr",
     "output_type": "stream",
     "text": [
      "100%|██████████| 20/20 [00:09<00:00,  2.21it/s]\n"
     ]
    }
   ],
   "source": [
    "# download pages\n",
    "#Command started only once to download pages\n",
    "collector_utils.download_pages(links, '../pfj')"
   ]
  },
  {
   "cell_type": "markdown",
   "metadata": {},
   "source": [
    "### 1.3 Parse downloaded pages "
   ]
  },
  {
   "cell_type": "markdown",
   "metadata": {},
   "source": [
    "##### Run this command only once to save tsv files\n",
    "\n",
    "    p1 = path to .html files\n",
    "\n",
    "    p2 = path to .tsv files\n",
    "    \n",
    "    n_pages = len(links)\n",
    "\n",
    "    parser_utils.scapper_tsv(n_pages, p1, p2)"
   ]
  },
  {
   "cell_type": "markdown",
   "metadata": {},
   "source": [
    "##### Create films data frame and save it in a file\n",
    "    p3 = path where you want to save film_dataFrame\n",
    "    \n",
    "    df_films = parser_utils.films_data_frame(links, p2)\n",
    "\n",
    "    df_films.to_csv(p3 + '/films_dataFrame.csv')"
   ]
  },
  {
   "cell_type": "markdown",
   "metadata": {},
   "source": [
    "# 2. Search Engine"
   ]
  },
  {
   "cell_type": "code",
   "execution_count": 2,
   "metadata": {},
   "outputs": [],
   "source": [
    "# read data frame from the file created before\n",
    "df_films = pd.read_csv('data/films_dataFrame.csv')"
   ]
  },
  {
   "cell_type": "markdown",
   "metadata": {},
   "source": [
    "### 2.1. Conjunctive query"
   ]
  },
  {
   "cell_type": "markdown",
   "metadata": {},
   "source": [
    "##### Create vocabulary and save it on a file (only once)\n",
    "\n",
    "    vocabulary = {}\n",
    "    \n",
    "    df_films.apply(index_utils.create_vocabulary, axis=1, voc = vocabulary)\n",
    "    \n",
    "    # Store data (serialize)\n",
    "    \n",
    "    with open('data/vocabulary.pickle', 'wb') as handle:\n",
    "        pickle.dump(vocabulary, handle, protocol=pickle.HIGHEST_PROTOCOL)"
   ]
  },
  {
   "cell_type": "markdown",
   "metadata": {},
   "source": [
    "###### Store data (serialize)\n",
    "\n",
    "    with open('data/vocabulary.pickle', 'wb') as handle:\n",
    "        pickle.dump(vocabulary, handle, protocol=pickle.HIGHEST_PROTOCOL)"
   ]
  },
  {
   "cell_type": "markdown",
   "metadata": {},
   "source": [
    "### 2.1.1/2.2.1 Create your index! / Inverted index"
   ]
  },
  {
   "cell_type": "markdown",
   "metadata": {},
   "source": [
    "##### Create inverted_index (words_film) (only once)\n",
    "\n",
    "    words_dict = {}\n",
    "\n",
    "    df_films['words_number'] = df_films.apply(index_utils.create_inverted_dict, axis=1, \n",
    "                            inverted_dict = words_dict, vocabulary = vocabulary)\n",
    "                            \n",
    "    df_films.to_csv('data' + '/films_dataFrame.csv')"
   ]
  },
  {
   "cell_type": "markdown",
   "metadata": {},
   "source": [
    "###### Store data (serialize) (only once)\n",
    "\n",
    "    with open('data/words_dict.pickle', 'wb') as handle:\n",
    "        pickle.dump(words_dict, handle, protocol=pickle.HIGHEST_PROTOCOL)"
   ]
  },
  {
   "cell_type": "code",
   "execution_count": 3,
   "metadata": {},
   "outputs": [],
   "source": [
    "# Load vocabulary and inverted index from the files created before\n",
    "# Load data (deserialize)\n",
    "with open('data/vocabulary.pickle', 'rb') as handle:\n",
    "    vocabulary = pickle.load(handle)\n",
    "\n",
    "with open('data/words_dict.pickle', 'rb') as handle:\n",
    "    words_dict = pickle.load(handle)\n",
    "    "
   ]
  },
  {
   "cell_type": "markdown",
   "metadata": {},
   "source": [
    "### 2.1.2) Execute the query (Search Engine 1)"
   ]
  },
  {
   "cell_type": "markdown",
   "metadata": {},
   "source": [
    "We use Jupyter Widgets to let the user enter the query"
   ]
  },
  {
   "cell_type": "code",
   "execution_count": 4,
   "metadata": {},
   "outputs": [
    {
     "data": {
      "application/vnd.jupyter.widget-view+json": {
       "model_id": "b66d01c81ea645749466a044918b3d44",
       "version_major": 2,
       "version_minor": 0
      },
      "text/plain": [
       "Text(value='', description='String:', placeholder='Type something')"
      ]
     },
     "metadata": {},
     "output_type": "display_data"
    }
   ],
   "source": [
    "q1 = widgets.Text(\n",
    "    value='',\n",
    "    placeholder='Type something',\n",
    "    description='String:',\n",
    "    disabled=False\n",
    ")\n",
    "q1"
   ]
  },
  {
   "cell_type": "code",
   "execution_count": 5,
   "metadata": {},
   "outputs": [
    {
     "data": {
      "text/html": [
       "<div>\n",
       "<style scoped>\n",
       "    .dataframe tbody tr th:only-of-type {\n",
       "        vertical-align: middle;\n",
       "    }\n",
       "\n",
       "    .dataframe tbody tr th {\n",
       "        vertical-align: top;\n",
       "    }\n",
       "\n",
       "    .dataframe thead th {\n",
       "        text-align: right;\n",
       "    }\n",
       "</style>\n",
       "<table border=\"1\" class=\"dataframe\">\n",
       "  <thead>\n",
       "    <tr style=\"text-align: right;\">\n",
       "      <th></th>\n",
       "      <th>title</th>\n",
       "      <th>Wikipedia_link</th>\n",
       "      <th>intro</th>\n",
       "    </tr>\n",
       "  </thead>\n",
       "  <tbody>\n",
       "    <tr>\n",
       "      <td>13787</td>\n",
       "      <td>Harry Potter and the Philosopher's Stone (film)</td>\n",
       "      <td>https://en.wikipedia.org/wiki/Harry_Potter_and...</td>\n",
       "      <td>Harry Potter and the Philosopher's Stone (rele...</td>\n",
       "    </tr>\n",
       "    <tr>\n",
       "      <td>13988</td>\n",
       "      <td>Harry Potter and the Chamber of Secrets (film)</td>\n",
       "      <td>https://en.wikipedia.org/wiki/Harry_Potter_and...</td>\n",
       "      <td>Harry Potter and the Chamber of Secrets is a 2...</td>\n",
       "    </tr>\n",
       "    <tr>\n",
       "      <td>14393</td>\n",
       "      <td>Harry Potter and the Prisoner of Azkaban (film)</td>\n",
       "      <td>https://en.wikipedia.org/wiki/Harry_Potter_and...</td>\n",
       "      <td>Harry Potter and the Prisoner of Azkaban is a ...</td>\n",
       "    </tr>\n",
       "    <tr>\n",
       "      <td>14590</td>\n",
       "      <td>Harry Potter and the Goblet of Fire (film)</td>\n",
       "      <td>https://en.wikipedia.org/wiki/Harry_Potter_and...</td>\n",
       "      <td>Harry Potter and the Goblet of Fire is a 2005 ...</td>\n",
       "    </tr>\n",
       "    <tr>\n",
       "      <td>15148</td>\n",
       "      <td>Harry Potter and the Order of the Phoenix (film)</td>\n",
       "      <td>https://en.wikipedia.org/wiki/Harry_Potter_and...</td>\n",
       "      <td>Harry Potter and the Order of the Phoenix is a...</td>\n",
       "    </tr>\n",
       "    <tr>\n",
       "      <td>15571</td>\n",
       "      <td>Harry Potter and the Half-Blood Prince (film)</td>\n",
       "      <td>https://en.wikipedia.org/wiki/Harry_Potter_and...</td>\n",
       "      <td>Harry Potter and the Half-Blood Prince is a 20...</td>\n",
       "    </tr>\n",
       "    <tr>\n",
       "      <td>15768</td>\n",
       "      <td>Harry Potter and the Deathly Hallows – Part 1</td>\n",
       "      <td>https://en.wikipedia.org/wiki/Harry_Potter_and...</td>\n",
       "      <td>Harry Potter and the Deathly Hallows – Part 1 ...</td>\n",
       "    </tr>\n",
       "    <tr>\n",
       "      <td>15962</td>\n",
       "      <td>Harry Potter and the Deathly Hallows – Part 2</td>\n",
       "      <td>https://en.wikipedia.org/wiki/Harry_Potter_and...</td>\n",
       "      <td>Harry Potter and the Deathly Hallows – Part 2 ...</td>\n",
       "    </tr>\n",
       "    <tr>\n",
       "      <td>20949</td>\n",
       "      <td>Harry Potter and the Deathly Hallows – Part 2</td>\n",
       "      <td>https://en.wikipedia.org/wiki/Harry_Potter_and...</td>\n",
       "      <td>Harry Potter and the Deathly Hallows – Part 2 ...</td>\n",
       "    </tr>\n",
       "  </tbody>\n",
       "</table>\n",
       "</div>"
      ],
      "text/plain": [
       "                                                  title  \\\n",
       "13787   Harry Potter and the Philosopher's Stone (film)   \n",
       "13988    Harry Potter and the Chamber of Secrets (film)   \n",
       "14393   Harry Potter and the Prisoner of Azkaban (film)   \n",
       "14590        Harry Potter and the Goblet of Fire (film)   \n",
       "15148  Harry Potter and the Order of the Phoenix (film)   \n",
       "15571     Harry Potter and the Half-Blood Prince (film)   \n",
       "15768     Harry Potter and the Deathly Hallows – Part 1   \n",
       "15962     Harry Potter and the Deathly Hallows – Part 2   \n",
       "20949     Harry Potter and the Deathly Hallows – Part 2   \n",
       "\n",
       "                                          Wikipedia_link  \\\n",
       "13787  https://en.wikipedia.org/wiki/Harry_Potter_and...   \n",
       "13988  https://en.wikipedia.org/wiki/Harry_Potter_and...   \n",
       "14393  https://en.wikipedia.org/wiki/Harry_Potter_and...   \n",
       "14590  https://en.wikipedia.org/wiki/Harry_Potter_and...   \n",
       "15148  https://en.wikipedia.org/wiki/Harry_Potter_and...   \n",
       "15571  https://en.wikipedia.org/wiki/Harry_Potter_and...   \n",
       "15768  https://en.wikipedia.org/wiki/Harry_Potter_and...   \n",
       "15962  https://en.wikipedia.org/wiki/Harry_Potter_and...   \n",
       "20949  https://en.wikipedia.org/wiki/Harry_Potter_and...   \n",
       "\n",
       "                                                   intro  \n",
       "13787  Harry Potter and the Philosopher's Stone (rele...  \n",
       "13988  Harry Potter and the Chamber of Secrets is a 2...  \n",
       "14393  Harry Potter and the Prisoner of Azkaban is a ...  \n",
       "14590  Harry Potter and the Goblet of Fire is a 2005 ...  \n",
       "15148  Harry Potter and the Order of the Phoenix is a...  \n",
       "15571  Harry Potter and the Half-Blood Prince is a 20...  \n",
       "15768  Harry Potter and the Deathly Hallows – Part 1 ...  \n",
       "15962  Harry Potter and the Deathly Hallows – Part 2 ...  \n",
       "20949  Harry Potter and the Deathly Hallows – Part 2 ...  "
      ]
     },
     "execution_count": 5,
     "metadata": {},
     "output_type": "execute_result"
    }
   ],
   "source": [
    "# Data frame for Search engine 1\n",
    "se1 = df_films\n",
    "\n",
    "# take the value of the query\n",
    "query1 = q1.value\n",
    "\n",
    "# Start Engine 1\n",
    "se1['Engine1'] = se1.apply(main.search_engine_1_apply, axis = 1, \n",
    "                           word_dict = words_dict,\n",
    "                           query = query1, \n",
    "                           vocabulary = vocabulary)\n",
    "se1[se1['Engine1'] == 1][['title','Wikipedia_link', 'intro']].head(15)"
   ]
  },
  {
   "cell_type": "markdown",
   "metadata": {},
   "source": [
    "## 2.2) Conjunctive query & Ranking score"
   ]
  },
  {
   "cell_type": "code",
   "execution_count": 6,
   "metadata": {},
   "outputs": [],
   "source": [
    "# read data frame from the file created before\n",
    "# df_films with column ranking score\n",
    "df_films = pd.read_csv('data/films_dataFrame.csv')"
   ]
  },
  {
   "cell_type": "markdown",
   "metadata": {},
   "source": [
    "##### Create dictionary with tfidf value of every word"
   ]
  },
  {
   "cell_type": "code",
   "execution_count": 25,
   "metadata": {
    "collapsed": true
   },
   "outputs": [
    {
     "name": "stderr",
     "output_type": "stream",
     "text": [
      " 19%|█▉        | 1095/5768 [00:02<00:06, 757.22it/s]\n"
     ]
    }
   ],
   "source": [
    "tfidf_dict = index_utils.create_dictionary_tfidf(words_dict, df_films)"
   ]
  },
  {
   "cell_type": "markdown",
   "metadata": {},
   "source": [
    "##### save tfldf_dict as a file\n",
    "\n",
    "    with open('data/tfidf_vocabulary.pickle', 'wb') as handle:\n",
    "        pickle.dump(tfidf_dict, handle, protocol=pickle.HIGHEST_PROTOCOL)"
   ]
  },
  {
   "cell_type": "markdown",
   "metadata": {},
   "source": [
    "### 2.2.2 Execute the query"
   ]
  },
  {
   "cell_type": "code",
   "execution_count": 6,
   "metadata": {},
   "outputs": [],
   "source": [
    "# Load data (deserialize) tfidf_dict\n",
    "with open('data/tfidf_dict.pickle', 'rb') as handle:\n",
    "    tfidf_dict = pickle.load(handle)"
   ]
  },
  {
   "cell_type": "code",
   "execution_count": 7,
   "metadata": {},
   "outputs": [
    {
     "data": {
      "application/vnd.jupyter.widget-view+json": {
       "model_id": "712375240be9425d90114913a2508438",
       "version_major": 2,
       "version_minor": 0
      },
      "text/plain": [
       "Text(value='', description='String:', placeholder='Type something')"
      ]
     },
     "metadata": {},
     "output_type": "display_data"
    }
   ],
   "source": [
    "q2 = widgets.Text(\n",
    "    value='',\n",
    "    placeholder='Type something',\n",
    "    description='String:',\n",
    "    disabled=False\n",
    ")\n",
    "q2"
   ]
  },
  {
   "cell_type": "code",
   "execution_count": 8,
   "metadata": {},
   "outputs": [
    {
     "data": {
      "text/html": [
       "<div>\n",
       "<style scoped>\n",
       "    .dataframe tbody tr th:only-of-type {\n",
       "        vertical-align: middle;\n",
       "    }\n",
       "\n",
       "    .dataframe tbody tr th {\n",
       "        vertical-align: top;\n",
       "    }\n",
       "\n",
       "    .dataframe thead th {\n",
       "        text-align: right;\n",
       "    }\n",
       "</style>\n",
       "<table border=\"1\" class=\"dataframe\">\n",
       "  <thead>\n",
       "    <tr style=\"text-align: right;\">\n",
       "      <th></th>\n",
       "      <th>title</th>\n",
       "      <th>intro</th>\n",
       "      <th>Wikipedia_link</th>\n",
       "      <th>Similarity</th>\n",
       "    </tr>\n",
       "  </thead>\n",
       "  <tbody>\n",
       "    <tr>\n",
       "      <td>14590</td>\n",
       "      <td>Harry Potter and the Goblet of Fire (film)</td>\n",
       "      <td>Harry Potter and the Goblet of Fire is a 2005 ...</td>\n",
       "      <td>https://en.wikipedia.org/wiki/Harry_Potter_and...</td>\n",
       "      <td>0.956166</td>\n",
       "    </tr>\n",
       "    <tr>\n",
       "      <td>15571</td>\n",
       "      <td>Harry Potter and the Half-Blood Prince (film)</td>\n",
       "      <td>Harry Potter and the Half-Blood Prince is a 20...</td>\n",
       "      <td>https://en.wikipedia.org/wiki/Harry_Potter_and...</td>\n",
       "      <td>0.955962</td>\n",
       "    </tr>\n",
       "    <tr>\n",
       "      <td>15148</td>\n",
       "      <td>Harry Potter and the Order of the Phoenix (film)</td>\n",
       "      <td>Harry Potter and the Order of the Phoenix is a...</td>\n",
       "      <td>https://en.wikipedia.org/wiki/Harry_Potter_and...</td>\n",
       "      <td>0.948416</td>\n",
       "    </tr>\n",
       "    <tr>\n",
       "      <td>13787</td>\n",
       "      <td>Harry Potter and the Philosopher's Stone (film)</td>\n",
       "      <td>Harry Potter and the Philosopher's Stone (rele...</td>\n",
       "      <td>https://en.wikipedia.org/wiki/Harry_Potter_and...</td>\n",
       "      <td>0.944247</td>\n",
       "    </tr>\n",
       "    <tr>\n",
       "      <td>15768</td>\n",
       "      <td>Harry Potter and the Deathly Hallows – Part 1</td>\n",
       "      <td>Harry Potter and the Deathly Hallows – Part 1 ...</td>\n",
       "      <td>https://en.wikipedia.org/wiki/Harry_Potter_and...</td>\n",
       "      <td>0.938298</td>\n",
       "    </tr>\n",
       "    <tr>\n",
       "      <td>14393</td>\n",
       "      <td>Harry Potter and the Prisoner of Azkaban (film)</td>\n",
       "      <td>Harry Potter and the Prisoner of Azkaban is a ...</td>\n",
       "      <td>https://en.wikipedia.org/wiki/Harry_Potter_and...</td>\n",
       "      <td>0.914860</td>\n",
       "    </tr>\n",
       "    <tr>\n",
       "      <td>20949</td>\n",
       "      <td>Harry Potter and the Deathly Hallows – Part 2</td>\n",
       "      <td>Harry Potter and the Deathly Hallows – Part 2 ...</td>\n",
       "      <td>https://en.wikipedia.org/wiki/Harry_Potter_and...</td>\n",
       "      <td>0.900084</td>\n",
       "    </tr>\n",
       "    <tr>\n",
       "      <td>15962</td>\n",
       "      <td>Harry Potter and the Deathly Hallows – Part 2</td>\n",
       "      <td>Harry Potter and the Deathly Hallows – Part 2 ...</td>\n",
       "      <td>https://en.wikipedia.org/wiki/Harry_Potter_and...</td>\n",
       "      <td>0.900084</td>\n",
       "    </tr>\n",
       "    <tr>\n",
       "      <td>13988</td>\n",
       "      <td>Harry Potter and the Chamber of Secrets (film)</td>\n",
       "      <td>Harry Potter and the Chamber of Secrets is a 2...</td>\n",
       "      <td>https://en.wikipedia.org/wiki/Harry_Potter_and...</td>\n",
       "      <td>0.879567</td>\n",
       "    </tr>\n",
       "    <tr>\n",
       "      <td>20590</td>\n",
       "      <td>The Man Who Cried</td>\n",
       "      <td>The Man Who Cried is a 2000 Anglo-French drama...</td>\n",
       "      <td>https://en.wikipedia.org/wiki/The_Man_Who_Cried</td>\n",
       "      <td>0.816388</td>\n",
       "    </tr>\n",
       "    <tr>\n",
       "      <td>15119</td>\n",
       "      <td>Epic Movie</td>\n",
       "      <td>Epic Movie is a 2007 American parody film dire...</td>\n",
       "      <td>https://en.wikipedia.org/wiki/Epic_Movie</td>\n",
       "      <td>0.810003</td>\n",
       "    </tr>\n",
       "    <tr>\n",
       "      <td>4241</td>\n",
       "      <td>It's a Wonderful Life</td>\n",
       "      <td>It's a Wonderful Life is a 1946 American Chris...</td>\n",
       "      <td>https://en.wikipedia.org/wiki/It%27s_a_Wonderf...</td>\n",
       "      <td>0.801172</td>\n",
       "    </tr>\n",
       "    <tr>\n",
       "      <td>7910</td>\n",
       "      <td>The Bedford Incident</td>\n",
       "      <td>The Bedford Incident (aka Aux Postes De Combat...</td>\n",
       "      <td>https://en.wikipedia.org/wiki/The_Bedford_Inci...</td>\n",
       "      <td>0.798161</td>\n",
       "    </tr>\n",
       "    <tr>\n",
       "      <td>25801</td>\n",
       "      <td>Aabra Ka Daabra</td>\n",
       "      <td>Aabra Ka Daabra is a 2004 Bollywood film. It w...</td>\n",
       "      <td>https://en.wikipedia.org/wiki/Aabra_Ka_Daabra</td>\n",
       "      <td>0.777924</td>\n",
       "    </tr>\n",
       "    <tr>\n",
       "      <td>25629</td>\n",
       "      <td>The Twilight Saga: New Moon</td>\n",
       "      <td>The Twilight Saga: New Moon (commonly referred...</td>\n",
       "      <td>https://en.wikipedia.org/wiki/The_Prince_of_Light</td>\n",
       "      <td>0.777924</td>\n",
       "    </tr>\n",
       "  </tbody>\n",
       "</table>\n",
       "</div>"
      ],
      "text/plain": [
       "                                                  title  \\\n",
       "14590        Harry Potter and the Goblet of Fire (film)   \n",
       "15571     Harry Potter and the Half-Blood Prince (film)   \n",
       "15148  Harry Potter and the Order of the Phoenix (film)   \n",
       "13787   Harry Potter and the Philosopher's Stone (film)   \n",
       "15768     Harry Potter and the Deathly Hallows – Part 1   \n",
       "14393   Harry Potter and the Prisoner of Azkaban (film)   \n",
       "20949     Harry Potter and the Deathly Hallows – Part 2   \n",
       "15962     Harry Potter and the Deathly Hallows – Part 2   \n",
       "13988    Harry Potter and the Chamber of Secrets (film)   \n",
       "20590                                 The Man Who Cried   \n",
       "15119                                        Epic Movie   \n",
       "4241                              It's a Wonderful Life   \n",
       "7910                               The Bedford Incident   \n",
       "25801                                   Aabra Ka Daabra   \n",
       "25629                       The Twilight Saga: New Moon   \n",
       "\n",
       "                                                   intro  \\\n",
       "14590  Harry Potter and the Goblet of Fire is a 2005 ...   \n",
       "15571  Harry Potter and the Half-Blood Prince is a 20...   \n",
       "15148  Harry Potter and the Order of the Phoenix is a...   \n",
       "13787  Harry Potter and the Philosopher's Stone (rele...   \n",
       "15768  Harry Potter and the Deathly Hallows – Part 1 ...   \n",
       "14393  Harry Potter and the Prisoner of Azkaban is a ...   \n",
       "20949  Harry Potter and the Deathly Hallows – Part 2 ...   \n",
       "15962  Harry Potter and the Deathly Hallows – Part 2 ...   \n",
       "13988  Harry Potter and the Chamber of Secrets is a 2...   \n",
       "20590  The Man Who Cried is a 2000 Anglo-French drama...   \n",
       "15119  Epic Movie is a 2007 American parody film dire...   \n",
       "4241   It's a Wonderful Life is a 1946 American Chris...   \n",
       "7910   The Bedford Incident (aka Aux Postes De Combat...   \n",
       "25801  Aabra Ka Daabra is a 2004 Bollywood film. It w...   \n",
       "25629  The Twilight Saga: New Moon (commonly referred...   \n",
       "\n",
       "                                          Wikipedia_link  Similarity  \n",
       "14590  https://en.wikipedia.org/wiki/Harry_Potter_and...    0.956166  \n",
       "15571  https://en.wikipedia.org/wiki/Harry_Potter_and...    0.955962  \n",
       "15148  https://en.wikipedia.org/wiki/Harry_Potter_and...    0.948416  \n",
       "13787  https://en.wikipedia.org/wiki/Harry_Potter_and...    0.944247  \n",
       "15768  https://en.wikipedia.org/wiki/Harry_Potter_and...    0.938298  \n",
       "14393  https://en.wikipedia.org/wiki/Harry_Potter_and...    0.914860  \n",
       "20949  https://en.wikipedia.org/wiki/Harry_Potter_and...    0.900084  \n",
       "15962  https://en.wikipedia.org/wiki/Harry_Potter_and...    0.900084  \n",
       "13988  https://en.wikipedia.org/wiki/Harry_Potter_and...    0.879567  \n",
       "20590    https://en.wikipedia.org/wiki/The_Man_Who_Cried    0.816388  \n",
       "15119           https://en.wikipedia.org/wiki/Epic_Movie    0.810003  \n",
       "4241   https://en.wikipedia.org/wiki/It%27s_a_Wonderf...    0.801172  \n",
       "7910   https://en.wikipedia.org/wiki/The_Bedford_Inci...    0.798161  \n",
       "25801      https://en.wikipedia.org/wiki/Aabra_Ka_Daabra    0.777924  \n",
       "25629  https://en.wikipedia.org/wiki/The_Prince_of_Light    0.777924  "
      ]
     },
     "execution_count": 8,
     "metadata": {},
     "output_type": "execute_result"
    }
   ],
   "source": [
    "# Data frame for Search Engine 2\n",
    "se2 = df_films\n",
    "\n",
    "# Get query\n",
    "query2 = q2.value\n",
    "\n",
    "# add column similarity to the data frame\n",
    "se2['Similarity'] = se2.apply(utils.cosSim, axis = 1, tfidf_vocabulary = tfidf_dict, query = query2,\n",
    "                             vocabulary = vocabulary)\n",
    "\n",
    "# create tuples with similarity and film id\n",
    "list_tuples = []\n",
    "for i in range(30000):\n",
    "    list_tuples.append((list(se2[se2['film_id'] == i]['Similarity'])[0], i))\n",
    "    \n",
    "# order tuples and take top 15th\n",
    "heapq.heapify(list_tuples)\n",
    "largest_sim = nlargest(15, list_tuples)\n",
    "\n",
    "# create a data frame with the top 15th results\n",
    "res_sim = pd.DataFrame(columns = ['title', 'intro', 'Wikipedia_link', 'Similarity'])\n",
    "for elem in largest_sim:\n",
    "    res_sim = res_sim.append(se2[se2['film_id'] == elem[1]][['title', 'intro', 'Wikipedia_link', 'Similarity']])\n",
    "\n",
    "res_sim"
   ]
  },
  {
   "cell_type": "markdown",
   "metadata": {},
   "source": [
    "# Part 3"
   ]
  },
  {
   "cell_type": "markdown",
   "metadata": {},
   "source": [
    "We give a rank to the Running time of the film:\n",
    "\n",
    "- R_time = 1 if  Running time in [90, 120] minutes\n",
    "- R_time = 2 if  Running time in [60, 90] minutes\n",
    "- R_time = 3 if  Running time > 120 minutes\n",
    "- R_time = 4 if  Running time < 60 minutes\n",
    "- R_time = 5 if  if we have some sort of problem in data frame\n",
    "\n",
    "We multiply this factor and the tfidf:\n",
    "\n",
    "- R_time * tfidf\n",
    "\n",
    "And in the end we display only the films with the language\n",
    "chosen by the user ranked by duration time."
   ]
  },
  {
   "cell_type": "markdown",
   "metadata": {},
   "source": [
    "The we let the user choose the language of the film. We take all the language from the library \"pycountry\" and take the intersection with the languages in our dataset. The we let the user choose."
   ]
  },
  {
   "cell_type": "code",
   "execution_count": 9,
   "metadata": {},
   "outputs": [
    {
     "data": {
      "application/vnd.jupyter.widget-view+json": {
       "model_id": "7762245b76204c718298f456cd853c5a",
       "version_major": 2,
       "version_minor": 0
      },
      "text/plain": [
       "Text(value='', description='String:', placeholder='Type something')"
      ]
     },
     "metadata": {},
     "output_type": "display_data"
    }
   ],
   "source": [
    "q3 = widgets.Text(\n",
    "    value='',\n",
    "    placeholder='Type something',\n",
    "    description='String:',\n",
    "    disabled=False\n",
    ")\n",
    "q3"
   ]
  },
  {
   "cell_type": "code",
   "execution_count": 10,
   "metadata": {},
   "outputs": [],
   "source": [
    "# Get the languages in our data frame\n",
    "languages = utils.get_languages(df_films)"
   ]
  },
  {
   "cell_type": "code",
   "execution_count": 11,
   "metadata": {},
   "outputs": [],
   "source": [
    "choose_language = widgets.Dropdown(\n",
    "    options=languages,\n",
    "    value='Silent',\n",
    "    description='Language:',\n",
    "    disabled=False,\n",
    ")"
   ]
  },
  {
   "cell_type": "code",
   "execution_count": 12,
   "metadata": {},
   "outputs": [
    {
     "data": {
      "application/vnd.jupyter.widget-view+json": {
       "model_id": "ebfaba5a65d74f7f9f2776f41f279362",
       "version_major": 2,
       "version_minor": 0
      },
      "text/plain": [
       "Dropdown(description='Language:', index=89, options=('Afrikaans', 'Albanian', 'Algonquin', 'Arabic', 'Armenian…"
      ]
     },
     "metadata": {},
     "output_type": "display_data"
    }
   ],
   "source": [
    "choose_language"
   ]
  },
  {
   "cell_type": "code",
   "execution_count": 13,
   "metadata": {},
   "outputs": [
    {
     "data": {
      "text/html": [
       "<div>\n",
       "<style scoped>\n",
       "    .dataframe tbody tr th:only-of-type {\n",
       "        vertical-align: middle;\n",
       "    }\n",
       "\n",
       "    .dataframe tbody tr th {\n",
       "        vertical-align: top;\n",
       "    }\n",
       "\n",
       "    .dataframe thead th {\n",
       "        text-align: right;\n",
       "    }\n",
       "</style>\n",
       "<table border=\"1\" class=\"dataframe\">\n",
       "  <thead>\n",
       "    <tr style=\"text-align: right;\">\n",
       "      <th></th>\n",
       "      <th>title</th>\n",
       "      <th>intro</th>\n",
       "      <th>Wikipedia_link</th>\n",
       "      <th>rank_duration</th>\n",
       "    </tr>\n",
       "  </thead>\n",
       "  <tbody>\n",
       "    <tr>\n",
       "      <td>20590</td>\n",
       "      <td>The Man Who Cried</td>\n",
       "      <td>The Man Who Cried is a 2000 Anglo-French drama...</td>\n",
       "      <td>https://en.wikipedia.org/wiki/The_Man_Who_Cried</td>\n",
       "      <td>1</td>\n",
       "    </tr>\n",
       "    <tr>\n",
       "      <td>15119</td>\n",
       "      <td>Epic Movie</td>\n",
       "      <td>Epic Movie is a 2007 American parody film dire...</td>\n",
       "      <td>https://en.wikipedia.org/wiki/Epic_Movie</td>\n",
       "      <td>1</td>\n",
       "    </tr>\n",
       "    <tr>\n",
       "      <td>7910</td>\n",
       "      <td>The Bedford Incident</td>\n",
       "      <td>The Bedford Incident (aka Aux Postes De Combat...</td>\n",
       "      <td>https://en.wikipedia.org/wiki/The_Bedford_Inci...</td>\n",
       "      <td>1</td>\n",
       "    </tr>\n",
       "    <tr>\n",
       "      <td>14590</td>\n",
       "      <td>Harry Potter and the Goblet of Fire (film)</td>\n",
       "      <td>Harry Potter and the Goblet of Fire is a 2005 ...</td>\n",
       "      <td>https://en.wikipedia.org/wiki/Harry_Potter_and...</td>\n",
       "      <td>3</td>\n",
       "    </tr>\n",
       "    <tr>\n",
       "      <td>15571</td>\n",
       "      <td>Harry Potter and the Half-Blood Prince (film)</td>\n",
       "      <td>Harry Potter and the Half-Blood Prince is a 20...</td>\n",
       "      <td>https://en.wikipedia.org/wiki/Harry_Potter_and...</td>\n",
       "      <td>3</td>\n",
       "    </tr>\n",
       "    <tr>\n",
       "      <td>15148</td>\n",
       "      <td>Harry Potter and the Order of the Phoenix (film)</td>\n",
       "      <td>Harry Potter and the Order of the Phoenix is a...</td>\n",
       "      <td>https://en.wikipedia.org/wiki/Harry_Potter_and...</td>\n",
       "      <td>3</td>\n",
       "    </tr>\n",
       "    <tr>\n",
       "      <td>13787</td>\n",
       "      <td>Harry Potter and the Philosopher's Stone (film)</td>\n",
       "      <td>Harry Potter and the Philosopher's Stone (rele...</td>\n",
       "      <td>https://en.wikipedia.org/wiki/Harry_Potter_and...</td>\n",
       "      <td>3</td>\n",
       "    </tr>\n",
       "    <tr>\n",
       "      <td>15768</td>\n",
       "      <td>Harry Potter and the Deathly Hallows – Part 1</td>\n",
       "      <td>Harry Potter and the Deathly Hallows – Part 1 ...</td>\n",
       "      <td>https://en.wikipedia.org/wiki/Harry_Potter_and...</td>\n",
       "      <td>3</td>\n",
       "    </tr>\n",
       "    <tr>\n",
       "      <td>14393</td>\n",
       "      <td>Harry Potter and the Prisoner of Azkaban (film)</td>\n",
       "      <td>Harry Potter and the Prisoner of Azkaban is a ...</td>\n",
       "      <td>https://en.wikipedia.org/wiki/Harry_Potter_and...</td>\n",
       "      <td>3</td>\n",
       "    </tr>\n",
       "    <tr>\n",
       "      <td>20949</td>\n",
       "      <td>Harry Potter and the Deathly Hallows – Part 2</td>\n",
       "      <td>Harry Potter and the Deathly Hallows – Part 2 ...</td>\n",
       "      <td>https://en.wikipedia.org/wiki/Harry_Potter_and...</td>\n",
       "      <td>3</td>\n",
       "    </tr>\n",
       "    <tr>\n",
       "      <td>15962</td>\n",
       "      <td>Harry Potter and the Deathly Hallows – Part 2</td>\n",
       "      <td>Harry Potter and the Deathly Hallows – Part 2 ...</td>\n",
       "      <td>https://en.wikipedia.org/wiki/Harry_Potter_and...</td>\n",
       "      <td>3</td>\n",
       "    </tr>\n",
       "    <tr>\n",
       "      <td>13988</td>\n",
       "      <td>Harry Potter and the Chamber of Secrets (film)</td>\n",
       "      <td>Harry Potter and the Chamber of Secrets is a 2...</td>\n",
       "      <td>https://en.wikipedia.org/wiki/Harry_Potter_and...</td>\n",
       "      <td>3</td>\n",
       "    </tr>\n",
       "    <tr>\n",
       "      <td>4241</td>\n",
       "      <td>It's a Wonderful Life</td>\n",
       "      <td>It's a Wonderful Life is a 1946 American Chris...</td>\n",
       "      <td>https://en.wikipedia.org/wiki/It%27s_a_Wonderf...</td>\n",
       "      <td>3</td>\n",
       "    </tr>\n",
       "    <tr>\n",
       "      <td>25629</td>\n",
       "      <td>The Twilight Saga: New Moon</td>\n",
       "      <td>The Twilight Saga: New Moon (commonly referred...</td>\n",
       "      <td>https://en.wikipedia.org/wiki/The_Prince_of_Light</td>\n",
       "      <td>3</td>\n",
       "    </tr>\n",
       "    <tr>\n",
       "      <td>25801</td>\n",
       "      <td>Aabra Ka Daabra</td>\n",
       "      <td>Aabra Ka Daabra is a 2004 Bollywood film. It w...</td>\n",
       "      <td>https://en.wikipedia.org/wiki/Aabra_Ka_Daabra</td>\n",
       "      <td>5</td>\n",
       "    </tr>\n",
       "  </tbody>\n",
       "</table>\n",
       "</div>"
      ],
      "text/plain": [
       "                                                  title  \\\n",
       "20590                                 The Man Who Cried   \n",
       "15119                                        Epic Movie   \n",
       "7910                               The Bedford Incident   \n",
       "14590        Harry Potter and the Goblet of Fire (film)   \n",
       "15571     Harry Potter and the Half-Blood Prince (film)   \n",
       "15148  Harry Potter and the Order of the Phoenix (film)   \n",
       "13787   Harry Potter and the Philosopher's Stone (film)   \n",
       "15768     Harry Potter and the Deathly Hallows – Part 1   \n",
       "14393   Harry Potter and the Prisoner of Azkaban (film)   \n",
       "20949     Harry Potter and the Deathly Hallows – Part 2   \n",
       "15962     Harry Potter and the Deathly Hallows – Part 2   \n",
       "13988    Harry Potter and the Chamber of Secrets (film)   \n",
       "4241                              It's a Wonderful Life   \n",
       "25629                       The Twilight Saga: New Moon   \n",
       "25801                                   Aabra Ka Daabra   \n",
       "\n",
       "                                                   intro  \\\n",
       "20590  The Man Who Cried is a 2000 Anglo-French drama...   \n",
       "15119  Epic Movie is a 2007 American parody film dire...   \n",
       "7910   The Bedford Incident (aka Aux Postes De Combat...   \n",
       "14590  Harry Potter and the Goblet of Fire is a 2005 ...   \n",
       "15571  Harry Potter and the Half-Blood Prince is a 20...   \n",
       "15148  Harry Potter and the Order of the Phoenix is a...   \n",
       "13787  Harry Potter and the Philosopher's Stone (rele...   \n",
       "15768  Harry Potter and the Deathly Hallows – Part 1 ...   \n",
       "14393  Harry Potter and the Prisoner of Azkaban is a ...   \n",
       "20949  Harry Potter and the Deathly Hallows – Part 2 ...   \n",
       "15962  Harry Potter and the Deathly Hallows – Part 2 ...   \n",
       "13988  Harry Potter and the Chamber of Secrets is a 2...   \n",
       "4241   It's a Wonderful Life is a 1946 American Chris...   \n",
       "25629  The Twilight Saga: New Moon (commonly referred...   \n",
       "25801  Aabra Ka Daabra is a 2004 Bollywood film. It w...   \n",
       "\n",
       "                                          Wikipedia_link  rank_duration  \n",
       "20590    https://en.wikipedia.org/wiki/The_Man_Who_Cried              1  \n",
       "15119           https://en.wikipedia.org/wiki/Epic_Movie              1  \n",
       "7910   https://en.wikipedia.org/wiki/The_Bedford_Inci...              1  \n",
       "14590  https://en.wikipedia.org/wiki/Harry_Potter_and...              3  \n",
       "15571  https://en.wikipedia.org/wiki/Harry_Potter_and...              3  \n",
       "15148  https://en.wikipedia.org/wiki/Harry_Potter_and...              3  \n",
       "13787  https://en.wikipedia.org/wiki/Harry_Potter_and...              3  \n",
       "15768  https://en.wikipedia.org/wiki/Harry_Potter_and...              3  \n",
       "14393  https://en.wikipedia.org/wiki/Harry_Potter_and...              3  \n",
       "20949  https://en.wikipedia.org/wiki/Harry_Potter_and...              3  \n",
       "15962  https://en.wikipedia.org/wiki/Harry_Potter_and...              3  \n",
       "13988  https://en.wikipedia.org/wiki/Harry_Potter_and...              3  \n",
       "4241   https://en.wikipedia.org/wiki/It%27s_a_Wonderf...              3  \n",
       "25629  https://en.wikipedia.org/wiki/The_Prince_of_Light              3  \n",
       "25801      https://en.wikipedia.org/wiki/Aabra_Ka_Daabra              5  "
      ]
     },
     "execution_count": 13,
     "metadata": {},
     "output_type": "execute_result"
    }
   ],
   "source": [
    "# DataFrame for Search Engine 3\n",
    "se3 = df_films\n",
    "\n",
    "# Language\n",
    "l = choose_language.value\n",
    "\n",
    "# query \n",
    "query3 = q3.value\n",
    "\n",
    "# add column with similarity\n",
    "se3['Similarity'] = se3.apply(utils.cosSim, axis = 1, tfidf_vocabulary = tfidf_dict, query = query3,\n",
    "                             vocabulary = vocabulary)\n",
    "\n",
    "# add a column to checking the language\n",
    "se3['sel_lan'] = se3.apply(utils.selected_films, axis = 1, language = l)\n",
    "\n",
    "# create tuples with similarity and film id\n",
    "list_tuples = []\n",
    "for i in range(30000):\n",
    "    list_tuples.append((list(se3[se3['film_id'] == i]['Similarity'])[0], i))\n",
    "\n",
    "# order tuples and take top 15th\n",
    "heapq.heapify(list_tuples)\n",
    "largest_sim = nlargest(15, list_tuples)\n",
    "\n",
    "# create a data frame with the top 15th results\n",
    "res_sim = pd.DataFrame(columns = ['film_id', 'title', 'intro', 'Wikipedia_link','Starring', 'Running time', 'Similarity'])\n",
    "for elem in largest_sim:\n",
    "    res_sim = res_sim.append(se3[se3['film_id'] == elem[1]][['film_id','title', 'intro', 'Wikipedia_link',\n",
    "                                                             'Starring', 'Running time', 'Similarity']])\n",
    "\n",
    "# add column ranking running tima\n",
    "res_sim['rank_duration'] = res_sim.apply(utils.R_time_score, axis = 1)\n",
    "\n",
    "res_sim.sort_values(by = ['rank_duration'], inplace = True, ascending = True)\n",
    "\n",
    "res_sim[['title', 'intro', 'Wikipedia_link', 'rank_duration']]\n"
   ]
  },
  {
   "cell_type": "markdown",
   "metadata": {},
   "source": [
    "# Exercise 4"
   ]
  },
  {
   "cell_type": "markdown",
   "metadata": {},
   "source": [
    "You are given a string, s. Let's define a subsequence as the subset of characters that respects the order we find them in s. For instance, a subsequence of \"DATAMINING\" is \"TMNN\". Your goal is to define and implement an algorithm that finds the length of the longest possible subsequence that can be read in the same way forward and backwards. For example, given the string \"DATAMININGSAPIENZA\" the answer should be 7 (dAtamININgsapIenzA)."
   ]
  },
  {
   "cell_type": "markdown",
   "metadata": {},
   "source": [
    "### Define and implement the algorithm"
   ]
  },
  {
   "cell_type": "markdown",
   "metadata": {},
   "source": [
    "For this exercise, we need an algorithm that, given a string, finds the length of the longest possible palindrome subsequence.\n",
    "So, we can divide it into two tasks: looking for subsequences, and check if it's a palindrome (saving length).\n",
    "The second task is fairly easy, instead, problems arise when we actually begin to consider all the possible subsequences."
   ]
  },
  {
   "cell_type": "markdown",
   "metadata": {},
   "source": [
    "Initially we can start by considering all the possible sub-sequences of the string, and therefore it soon becomes impossible to obtain results, even for strings of only 20 characters.\n",
    "The problem with this algorithm lies in the fact that we save all possible substrings, while in reality we only need the length of the maximum palindrome sequence."
   ]
  },
  {
   "cell_type": "code",
   "execution_count": null,
   "metadata": {},
   "outputs": [],
   "source": [
    "# Returns the length of the longest palindromic subsequence in a using intertools.combinations \n",
    "#(which keeps the order between the characters)\n",
    "from itertools import combinations \n",
    "\n",
    "def pal(a): \n",
    "    g = ()\n",
    "    \n",
    "    # Listing all the possible combinations, keeping order, and checking if they are palindrome\n",
    "    for i in range(len(a)-1,0,-1):\n",
    "        \n",
    "        # List of all possible cambinations with length i+1\n",
    "        c = list(combinations(a,i+1))\n",
    "        \n",
    "        for j in range(len(c)):\n",
    "            \n",
    "            # Checking for palindrome and for max length\n",
    "            if c[j] == c[j][::-1] and len(c[j]) > len(g):\n",
    "                g = c[j]\n",
    "                break\n",
    "        else:\n",
    "            continue\n",
    "\n",
    "        break\n",
    "\n",
    "    return len(g)"
   ]
  },
  {
   "cell_type": "code",
   "execution_count": null,
   "metadata": {},
   "outputs": [],
   "source": [
    "a = 'DATAMININGSAPIENZA'"
   ]
  },
  {
   "cell_type": "code",
   "execution_count": null,
   "metadata": {},
   "outputs": [],
   "source": [
    "print(pal(a))"
   ]
  },
  {
   "cell_type": "markdown",
   "metadata": {},
   "source": [
    "So we can imagine having to look for a recursive algorithm, which does not save all the possible sequences and which only returns the length of the maximum palindrome succession."
   ]
  },
  {
   "cell_type": "markdown",
   "metadata": {},
   "source": [
    "In the recursive algorithm, we consider 4 cases.\n",
    "If there is only a character, its length is 1; if there are only two characters and are the same, then its length is 2.\n",
    "For strings of more than two character we consider two distint cases:\n",
    "1. When the first and the last characters are the same, we can return 2 plus another function call which is the length of the palindrome substring without these characters.\n",
    "2. When the first and the last characters don't match, the string cannot be a palindrome, so we return the max length between the possible palindrome substrings getting rid of the last character for the first substring and the first character for the second substring.\n",
    "\n",
    "So we end up calculating the max length of the maximum palindrome substring without actually storing all possible combinations."
   ]
  },
  {
   "cell_type": "code",
   "execution_count": null,
   "metadata": {},
   "outputs": [],
   "source": [
    "# Returns the length of the longest palindromic subsequence in a  \n",
    "# i and j are indexes of a\n",
    "def recpa(a, i, j): \n",
    "      \n",
    "    #If there is only 1 character      \n",
    "    if (i == j): \n",
    "        return 1\n",
    "  \n",
    "    #If there are only 2 characters and both are same      \n",
    "    if (a[i] == a[j] and i + 1 == j): \n",
    "        return 2\n",
    "      \n",
    "    # If the first and last characters match  \n",
    "    if (a[i] == a[j]): \n",
    "        return recpa(a, i + 1, j - 1) + 2\n",
    "  \n",
    "    # If the first and last characters do not match  \n",
    "    return max(recpa(a, i, j - 1), recpa(a, i + 1, j)) "
   ]
  },
  {
   "cell_type": "code",
   "execution_count": null,
   "metadata": {},
   "outputs": [],
   "source": [
    "print(recpa(a, 0, len(a)-1))"
   ]
  },
  {
   "cell_type": "code",
   "execution_count": null,
   "metadata": {},
   "outputs": [],
   "source": [
    "%timeit recpa(a, 0, len(a)-1)"
   ]
  },
  {
   "cell_type": "markdown",
   "metadata": {},
   "source": [
    "# Bonus Step: Make a nice visualization!"
   ]
  },
  {
   "cell_type": "code",
   "execution_count": 14,
   "metadata": {},
   "outputs": [],
   "source": [
    "from itertools import combinations\n",
    "import networkx as nx\n",
    "import matplotlib.pyplot as plt"
   ]
  },
  {
   "cell_type": "code",
   "execution_count": 15,
   "metadata": {},
   "outputs": [],
   "source": [
    "b = res_sim.head(10)"
   ]
  },
  {
   "cell_type": "markdown",
   "metadata": {},
   "source": [
    "###### We filtered the actors that be together in 2 or more films, and put them in relations_actor"
   ]
  },
  {
   "cell_type": "code",
   "execution_count": 19,
   "metadata": {},
   "outputs": [],
   "source": [
    "combination=[]\n",
    "for i in range(10):\n",
    "    try:\n",
    "        starring=b.iloc[i]['Starring'].split('\\n')\n",
    "    except:\n",
    "        continue\n",
    "    combination+=list(combinations(starring, 2))\n",
    "relations_actor=[x for x in combination if combination.count(x)>1]"
   ]
  },
  {
   "cell_type": "markdown",
   "metadata": {},
   "source": [
    "##### We created a set with all the actors in relations_actor, we need this set to make the node¶"
   ]
  },
  {
   "cell_type": "code",
   "execution_count": 22,
   "metadata": {},
   "outputs": [],
   "source": [
    "actors=[]\n",
    "for i in relations_actor:\n",
    "    for j in i:\n",
    "        actors+=[j]\n",
    "actors=set(actors)\n",
    "actors=list(actors)"
   ]
  },
  {
   "cell_type": "markdown",
   "metadata": {},
   "source": [
    "##### We created the Graph with the link beetween the actors that be together in 2 or more films."
   ]
  },
  {
   "cell_type": "code",
   "execution_count": 23,
   "metadata": {},
   "outputs": [
    {
     "data": {
      "image/png": "[encoded data removed]",
      "text/plain": [
       "<Figure size 432x288 with 1 Axes>"
      ]
     },
     "metadata": {},
     "output_type": "display_data"
    }
   ],
   "source": [
    "g=nx.Graph()\n",
    "for i in actors:\n",
    "    g.add_node(i)\n",
    "for i in relations_actor:\n",
    "    try:\n",
    "        g.add_edge(*i)\n",
    "    except:\n",
    "        print(\"No Edges\")\n",
    "    \n",
    "nx.draw(g)"
   ]
  },
  {
   "cell_type": "code",
   "execution_count": null,
   "metadata": {},
   "outputs": [],
   "source": []
  }
 ],
 "metadata": {
  "kernelspec": {
   "display_name": "Python 3",
   "language": "python",
   "name": "python3"
  },
  "language_info": {
   "codemirror_mode": {
    "name": "ipython",
    "version": 3
   },
   "file_extension": ".py",
   "mimetype": "text/x-python",
   "name": "python",
   "nbconvert_exporter": "python",
   "pygments_lexer": "ipython3",
   "version": "3.7.4"
  }
 },
 "nbformat": 4,
 "nbformat_minor": 2
}
