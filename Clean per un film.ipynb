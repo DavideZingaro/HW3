{
 "cells": [
  {
   "cell_type": "code",
   "execution_count": 54,
   "metadata": {},
   "outputs": [],
   "source": [
    "document=open('Article_11.tsv','r+',encoding='utf-8')"
   ]
  },
  {
   "cell_type": "code",
   "execution_count": 55,
   "metadata": {},
   "outputs": [],
   "source": [
    "from nltk.tokenize import sent_tokenize, word_tokenize\n",
    "from nltk.corpus import stopwords\n",
    "from nltk.stem import PorterStemmer\n",
    "import string\n"
   ]
  },
  {
   "cell_type": "code",
   "execution_count": 57,
   "metadata": {},
   "outputs": [],
   "source": [
    "stop_words=set(stopwords.words('english'))\n",
    "Filtered_Documents=[]\n",
    "words=word_tokenize(document.read())\n",
    "Filtered_Documents= [w for w in words if not w in stop_words]\n",
    "\n",
    "ps=PorterStemmer()\n",
    "Stemmed_Documents=[]\n",
    "for w in Filtered_Documents:\n",
    "    Stemmed_Documents.append(ps.stem(w))\n",
    "    \n",
    "punctuations = list(string.punctuation)\n",
    "punctuations.append(\"''\")\n",
    "Final_Doc=[]\n",
    "\n",
    "without_punctation=[w for w in Stemmed_Documents if not w in punctuations]"
   ]
  },
  {
   "cell_type": "code",
   "execution_count": 60,
   "metadata": {},
   "outputs": [
    {
     "name": "stdout",
     "output_type": "stream",
     "text": [
      "['Born', 'Flames', \"''\", 'Born', 'Flames', '1983', 'documentary-style', 'feminist', 'fiction', 'film', 'Lizzie', 'Borden', 'explores', 'racism', ',', 'classism', ',', 'sexism', ',', 'heterosexism', 'alternative', 'United', 'States', 'socialist', 'democracy', '.', '[', '1', ']', 'The', 'title', 'comes', 'song', '``', \"''\", 'Born', 'Flames', \"''\", \"''\", 'written', 'member', 'Art', '&', 'Language', ',', 'Mayo', 'Thompson', 'band', 'Red', 'Krayola', '.', '[', '2', ']', \"''\", \"''\", 'The', 'plot', 'concerns', 'two', 'feminist', 'groups', 'New', 'York', 'City', ',', 'voicing', 'concerns', 'public', 'pirate', 'radio', '.', 'One', 'group', ',', 'led', 'outspoken', 'white', 'lesbian', ',', 'Isabel', '(', 'Adele', 'Bertei', ')', ',', 'operates', '``', \"''\", 'Radio', 'Ragazza', \"''\", \"''\", '.', 'The', 'group', ',', 'led', 'soft-spoken', 'African-American', ',', 'Honey', '(', 'Honey', ')', ',', 'operates', '``', \"''\", 'Phoenix', 'Radio', '.', \"''\", \"''\", 'The', 'local', 'community', 'stimulated', 'action', 'world-traveling', 'political', 'activist', ',', 'Adelaide', 'Norris', '(', 'Jean', 'Satterfield', ')', ',', 'arrested', 'upon', 'arriving', 'New', 'York', 'City', 'airport', ',', 'suspiciously', 'dies', 'police', 'custody', '.', 'Also', ',', 'Women', \"'s\", 'Army', 'led', 'Hilary', 'Hurst', '(', 'Hilary', 'Hurst', ')', 'advised', 'Zella', '(', 'Flo', 'Kennedy', ')', 'initially', 'Honey', 'Isabel', 'refuse', 'join', '.', 'This', 'group', ',', 'along', 'Norris', 'radio', 'stations', ',', 'investigation', 'callous', 'FBI', 'agent', '(', 'Ron', 'Vawter', ')', '.', 'Their', 'progress', 'tracked', 'three', 'editors', '(', 'Becky', 'Johnston', ',', 'Pat', 'Murphy', ',', 'Kathryn', 'Bigelow', ')', 'socialist', 'newspaper', ',', 'go', 'far', 'get', 'fired', '.', \"''\", 'NA', 'Lizzie', 'Borden', 'Lizzie', 'Borden', 'Lizzie', 'Borden', \"''\", 'Honey', 'Adele', 'Bertei', 'Kathryn', 'Bigelow', \"''\", 'IbisRed', 'Krayola', 'February', '20', ',', '1983', '(', '1983-02-20', ')', '90', 'minutes', 'United', 'States', 'English', 'NA']\n"
     ]
    }
   ],
   "source": [
    "print(Filtered_Documents)"
   ]
  },
  {
   "cell_type": "code",
   "execution_count": 67,
   "metadata": {},
   "outputs": [
    {
     "name": "stdout",
     "output_type": "stream",
     "text": [
      "['born', 'flame', \"''\", 'born', 'flame', '1983', 'documentary-styl', 'feminist', 'fiction', 'film', 'lizzi', 'borden', 'explor', 'racism', ',', 'classism', ',', 'sexism', ',', 'heterosex', 'altern', 'unit', 'state', 'socialist', 'democraci', '.', '[', '1', ']', 'the', 'titl', 'come', 'song', '``', \"''\", 'born', 'flame', \"''\", \"''\", 'written', 'member', 'art', '&', 'languag', ',', 'mayo', 'thompson', 'band', 'red', 'krayola', '.', '[', '2', ']', \"''\", \"''\", 'the', 'plot', 'concern', 'two', 'feminist', 'group', 'new', 'york', 'citi', ',', 'voic', 'concern', 'public', 'pirat', 'radio', '.', 'one', 'group', ',', 'led', 'outspoken', 'white', 'lesbian', ',', 'isabel', '(', 'adel', 'bertei', ')', ',', 'oper', '``', \"''\", 'radio', 'ragazza', \"''\", \"''\", '.', 'the', 'group', ',', 'led', 'soft-spoken', 'african-american', ',', 'honey', '(', 'honey', ')', ',', 'oper', '``', \"''\", 'phoenix', 'radio', '.', \"''\", \"''\", 'the', 'local', 'commun', 'stimul', 'action', 'world-travel', 'polit', 'activist', ',', 'adelaid', 'norri', '(', 'jean', 'satterfield', ')', ',', 'arrest', 'upon', 'arriv', 'new', 'york', 'citi', 'airport', ',', 'suspici', 'die', 'polic', 'custodi', '.', 'also', ',', 'women', \"'s\", 'armi', 'led', 'hilari', 'hurst', '(', 'hilari', 'hurst', ')', 'advis', 'zella', '(', 'flo', 'kennedi', ')', 'initi', 'honey', 'isabel', 'refus', 'join', '.', 'thi', 'group', ',', 'along', 'norri', 'radio', 'station', ',', 'investig', 'callou', 'fbi', 'agent', '(', 'ron', 'vawter', ')', '.', 'their', 'progress', 'track', 'three', 'editor', '(', 'becki', 'johnston', ',', 'pat', 'murphi', ',', 'kathryn', 'bigelow', ')', 'socialist', 'newspap', ',', 'go', 'far', 'get', 'fire', '.', \"''\", 'NA', 'lizzi', 'borden', 'lizzi', 'borden', 'lizzi', 'borden', \"''\", 'honey', 'adel', 'bertei', 'kathryn', 'bigelow', \"''\", 'ibisr', 'krayola', 'februari', '20', ',', '1983', '(', '1983-02-20', ')', '90', 'minut', 'unit', 'state', 'english', 'NA']\n"
     ]
    }
   ],
   "source": [
    "print(Stemmed_Documents)"
   ]
  },
  {
   "cell_type": "code",
   "execution_count": 68,
   "metadata": {},
   "outputs": [
    {
     "name": "stdout",
     "output_type": "stream",
     "text": [
      "['born', 'flame', 'born', 'flame', '1983', 'documentary-styl', 'feminist', 'fiction', 'film', 'lizzi', 'borden', 'explor', 'racism', 'classism', 'sexism', 'heterosex', 'altern', 'unit', 'state', 'socialist', 'democraci', '1', 'the', 'titl', 'come', 'song', '``', 'born', 'flame', 'written', 'member', 'art', 'languag', 'mayo', 'thompson', 'band', 'red', 'krayola', '2', 'the', 'plot', 'concern', 'two', 'feminist', 'group', 'new', 'york', 'citi', 'voic', 'concern', 'public', 'pirat', 'radio', 'one', 'group', 'led', 'outspoken', 'white', 'lesbian', 'isabel', 'adel', 'bertei', 'oper', '``', 'radio', 'ragazza', 'the', 'group', 'led', 'soft-spoken', 'african-american', 'honey', 'honey', 'oper', '``', 'phoenix', 'radio', 'the', 'local', 'commun', 'stimul', 'action', 'world-travel', 'polit', 'activist', 'adelaid', 'norri', 'jean', 'satterfield', 'arrest', 'upon', 'arriv', 'new', 'york', 'citi', 'airport', 'suspici', 'die', 'polic', 'custodi', 'also', 'women', \"'s\", 'armi', 'led', 'hilari', 'hurst', 'hilari', 'hurst', 'advis', 'zella', 'flo', 'kennedi', 'initi', 'honey', 'isabel', 'refus', 'join', 'thi', 'group', 'along', 'norri', 'radio', 'station', 'investig', 'callou', 'fbi', 'agent', 'ron', 'vawter', 'their', 'progress', 'track', 'three', 'editor', 'becki', 'johnston', 'pat', 'murphi', 'kathryn', 'bigelow', 'socialist', 'newspap', 'go', 'far', 'get', 'fire', 'NA', 'lizzi', 'borden', 'lizzi', 'borden', 'lizzi', 'borden', 'honey', 'adel', 'bertei', 'kathryn', 'bigelow', 'ibisr', 'krayola', 'februari', '20', '1983', '1983-02-20', '90', 'minut', 'unit', 'state', 'english', 'NA']\n"
     ]
    }
   ],
   "source": [
    "print(without_punctation)"
   ]
  },
  {
   "cell_type": "code",
   "execution_count": null,
   "metadata": {},
   "outputs": [],
   "source": []
  }
 ],
 "metadata": {
  "kernelspec": {
   "display_name": "Python 3",
   "language": "python",
   "name": "python3"
  },
  "language_info": {
   "codemirror_mode": {
    "name": "ipython",
    "version": 3
   },
   "file_extension": ".py",
   "mimetype": "text/x-python",
   "name": "python",
   "nbconvert_exporter": "python",
   "pygments_lexer": "ipython3",
   "version": "3.7.3"
  }
 },
 "nbformat": 4,
 "nbformat_minor": 2
}
