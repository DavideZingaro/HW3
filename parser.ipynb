{
 "cells": [
  {
   "cell_type": "code",
   "execution_count": 1,
   "metadata": {},
   "outputs": [],
   "source": [
    "import os\n",
    "from bs4 import BeautifulSoup as BS\n",
    "import csv\n",
    "import pandas as pd\n",
    "from time import time "
   ]
  },
  {
   "cell_type": "code",
   "execution_count": 2,
   "metadata": {},
   "outputs": [],
   "source": [
    "path = './prova/'"
   ]
  },
  {
   "cell_type": "code",
   "execution_count": 3,
   "metadata": {},
   "outputs": [],
   "source": [
    "def intro_plot(soup,index=0):\n",
    "    try:\n",
    "        Node = soup.find_all('p')[index]\n",
    "        lst = [Node.text]\n",
    "        nextNode = Node\n",
    "        while True:\n",
    "            nextNode = nextNode.next_sibling\n",
    "            try:\n",
    "                tag_name = nextNode.name\n",
    "            except AttributeError:\n",
    "                tag_name = \"\"\n",
    "            if tag_name == \"p\":\n",
    "                lst.append(nextNode.text)\n",
    "            else:\n",
    "                break\n",
    "    except:\n",
    "        lst = None\n",
    "    return lst"
   ]
  },
  {
   "cell_type": "code",
   "execution_count": 4,
   "metadata": {},
   "outputs": [],
   "source": [
    "def soup_parser(soup,info=None,next_tag='td',class_name=None):\n",
    "    if next_tag:\n",
    "        element = soup.find('th', text=info)\n",
    "        if not element:\n",
    "            element = 'NA'\n",
    "        else:\n",
    "            if info=='Release date':\n",
    "                element = element.find_next(next_tag).text.split()[0]\n",
    "            else:\n",
    "                element = element.find_next(next_tag).text\n",
    "    else:\n",
    "        element = soup.find('h1').text\n",
    "    return element"
   ]
  },
  {
   "cell_type": "code",
   "execution_count": 5,
   "metadata": {},
   "outputs": [],
   "source": [
    "if not os.path.exists('tsv_files'):\n",
    "    os.makedirs('tsv_files')"
   ]
  },
  {
   "cell_type": "code",
   "execution_count": 6,
   "metadata": {},
   "outputs": [
    {
     "name": "stdout",
     "output_type": "stream",
     "text": [
      "Execution time is: 64.00750684738159\n"
     ]
    }
   ],
   "source": [
    "columns = ['title', 'intro', 'plot', 'film_name', 'director', 'producer', 'writer', 'starring', 'music', 'release date', 'runtime', 'country', 'language', 'budget']\n",
    "exceptions = []\n",
    "start = time()\n",
    "for subdir, dirs,files in os.walk(path):\n",
    "    for file in files:\n",
    "        try:\n",
    "            soup = BS(open(path+file, encoding=\"utf8\"), \"html.parser\")\n",
    "            \n",
    "            title = soup_parser(soup=soup,next_tag=None,class_name='firstHeading')\n",
    "            intro = intro_plot(soup=soup)\n",
    "            plot = intro_plot(soup=soup,index=len(intro))\n",
    "            director = soup_parser(soup=soup, info='Directed by')\n",
    "            producer = soup_parser(soup=soup, info='Produced by')\n",
    "            writer = soup_parser(soup=soup, info='Written by')\n",
    "            starred = soup_parser(soup=soup, info='Starring')\n",
    "            music = soup_parser(soup=soup, info='Music by')\n",
    "            date = soup_parser(soup=soup,info='Release date')\n",
    "            duration = soup_parser(soup=soup, info='Running time')\n",
    "            country = soup_parser(soup=soup, info='Country')\n",
    "            language = soup_parser(soup=soup, info='Language')\n",
    "            budget = soup_parser(soup=soup, info='Budget')\n",
    "            \n",
    "            all_info = [title,intro,plot,title,director,producer,writer,starred,music,date,duration,country,language,budget]\n",
    "            with open('tsv_files/%s.tsv' %(file[:-5]), 'wt',encoding=\"utf-8\") as out_file:\n",
    "                tsv_writer = csv.writer(out_file, delimiter='\\t')\n",
    "                tsv_writer.writerow(columns)\n",
    "                tsv_writer.writerow(all_info)\n",
    "\n",
    "        except:\n",
    "            print('Could not parse html file:', file)\n",
    "            exceptions.append(file)\n",
    "print(\"Execution time is:\",time()-start)"
   ]
  },
  {
   "cell_type": "code",
   "execution_count": null,
   "metadata": {},
   "outputs": [],
   "source": []
  },
  {
   "cell_type": "code",
   "execution_count": null,
   "metadata": {},
   "outputs": [],
   "source": []
  },
  {
   "cell_type": "code",
   "execution_count": 9,
   "metadata": {},
   "outputs": [
    {
     "data": {
      "text/html": [
       "<div>\n",
       "<style scoped>\n",
       "    .dataframe tbody tr th:only-of-type {\n",
       "        vertical-align: middle;\n",
       "    }\n",
       "\n",
       "    .dataframe tbody tr th {\n",
       "        vertical-align: top;\n",
       "    }\n",
       "\n",
       "    .dataframe thead th {\n",
       "        text-align: right;\n",
       "    }\n",
       "</style>\n",
       "<table border=\"1\" class=\"dataframe\">\n",
       "  <thead>\n",
       "    <tr style=\"text-align: right;\">\n",
       "      <th></th>\n",
       "      <th>title</th>\n",
       "      <th>intro</th>\n",
       "      <th>plot</th>\n",
       "      <th>film_name</th>\n",
       "      <th>director</th>\n",
       "      <th>producer</th>\n",
       "      <th>writer</th>\n",
       "      <th>starring</th>\n",
       "      <th>music</th>\n",
       "      <th>release date</th>\n",
       "      <th>runtime</th>\n",
       "      <th>country</th>\n",
       "      <th>language</th>\n",
       "      <th>budget</th>\n",
       "    </tr>\n",
       "  </thead>\n",
       "  <tbody>\n",
       "    <tr>\n",
       "      <th>0</th>\n",
       "      <td>Hardboiled Rose</td>\n",
       "      <td>['Hardboiled Rose is a 1929 American part-talk...</td>\n",
       "      <td>[\"A Southern belle (Loy) must work in a gambli...</td>\n",
       "      <td>Hardboiled Rose</td>\n",
       "      <td>F. Harmon Weight</td>\n",
       "      <td>NaN</td>\n",
       "      <td>Darryl F. Zanuck (story)Robert Lord (screenpla...</td>\n",
       "      <td>Myrna LoyWilliam Collier, Jr.John Miljan</td>\n",
       "      <td>NaN</td>\n",
       "      <td>March</td>\n",
       "      <td>5 reels (silent version)6 reels (sound version)</td>\n",
       "      <td>United States</td>\n",
       "      <td>English</td>\n",
       "      <td>NaN</td>\n",
       "    </tr>\n",
       "  </tbody>\n",
       "</table>\n",
       "</div>"
      ],
      "text/plain": [
       "             title                                              intro  \\\n",
       "0  Hardboiled Rose  ['Hardboiled Rose is a 1929 American part-talk...   \n",
       "\n",
       "                                                plot        film_name  \\\n",
       "0  [\"A Southern belle (Loy) must work in a gambli...  Hardboiled Rose   \n",
       "\n",
       "           director  producer  \\\n",
       "0  F. Harmon Weight       NaN   \n",
       "\n",
       "                                              writer  \\\n",
       "0  Darryl F. Zanuck (story)Robert Lord (screenpla...   \n",
       "\n",
       "                                   starring  music release date  \\\n",
       "0  Myrna LoyWilliam Collier, Jr.John Miljan    NaN        March   \n",
       "\n",
       "                                           runtime        country language  \\\n",
       "0  5 reels (silent version)6 reels (sound version)  United States  English   \n",
       "\n",
       "   budget  \n",
       "0     NaN  "
      ]
     },
     "execution_count": 9,
     "metadata": {},
     "output_type": "execute_result"
    }
   ],
   "source": [
    "pd.read_csv(\"tsv_files/article-800.tsv\", sep=\"\\t\")"
   ]
  },
  {
   "cell_type": "code",
   "execution_count": null,
   "metadata": {},
   "outputs": [],
   "source": []
  }
 ],
 "metadata": {
  "kernelspec": {
   "display_name": "Python 3",
   "language": "python",
   "name": "python3"
  },
  "language_info": {
   "codemirror_mode": {
    "name": "ipython",
    "version": 3
   },
   "file_extension": ".py",
   "mimetype": "text/x-python",
   "name": "python",
   "nbconvert_exporter": "python",
   "pygments_lexer": "ipython3",
   "version": "3.7.4"
  }
 },
 "nbformat": 4,
 "nbformat_minor": 2
}
