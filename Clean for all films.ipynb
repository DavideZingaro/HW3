{
 "cells": [
  {
   "cell_type": "code",
   "execution_count": 14,
   "metadata": {},
   "outputs": [],
   "source": [
    "from nltk.tokenize import sent_tokenize, word_tokenize\n",
    "from nltk.corpus import stopwords\n",
    "from nltk.stem import PorterStemmer\n",
    "import string\n",
    "import os\n",
    "import csv\n"
   ]
  },
  {
   "cell_type": "code",
   "execution_count": 15,
   "metadata": {},
   "outputs": [],
   "source": [
    "os.chdir('C:\\\\Users\\\\Daniele\\\\Desktop\\\\Homework 3\\\\Tsv file')\n",
    "Folder=os.listdir()\n"
   ]
  },
  {
   "cell_type": "code",
   "execution_count": 16,
   "metadata": {},
   "outputs": [],
   "source": [
    "stop_words=set(stopwords.words('english'))\n",
    "ps=PorterStemmer()\n",
    "punctuations = list(string.punctuation)\n",
    "punctuations.append(\"''\")\n",
    "Filtered_Documents=[]\n",
    "for elem in Folder:\n",
    "    document=open(str(elem),'r+',encoding='utf-8')\n",
    "    words=word_tokenize(document.read())\n",
    "    Filtered_Documents= [w for w in words if not w in stop_words]\n",
    "    without_punctation=[w for w in Filtered_Documents if not w in punctuations]\n",
    "    Stemmed_Documents=[ps.stem(w) for w in without_punctation]\n",
    "    with open(str(elem), 'w', newline='', encoding='utf-8') as f_output:\n",
    "            tsv_output = csv.writer(f_output, delimiter='\\t')\n",
    "            tsv_output.writerow(Stemmed_Documents)\n",
    "\n",
    "\n"
   ]
  }
 ],
 "metadata": {
  "kernelspec": {
   "display_name": "Python 3",
   "language": "python",
   "name": "python3"
  },
  "language_info": {
   "codemirror_mode": {
    "name": "ipython",
    "version": 3
   },
   "file_extension": ".py",
   "mimetype": "text/x-python",
   "name": "python",
   "nbconvert_exporter": "python",
   "pygments_lexer": "ipython3",
   "version": "3.7.3"
  }
 },
 "nbformat": 4,
 "nbformat_minor": 2
}
