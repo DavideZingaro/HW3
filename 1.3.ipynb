{
 "cells": [
  {
   "cell_type": "code",
   "execution_count": 29,
   "metadata": {},
   "outputs": [
    {
     "data": {
      "text/plain": [
       "'The Little Train Robbery'"
      ]
     },
     "execution_count": 29,
     "metadata": {},
     "output_type": "execute_result"
    }
   ],
   "source": [
    "from bs4 import BeautifulSoup\n",
    "import re\n",
    "\n",
    "\n",
    "url = \"C:\\\\Users\\\\Notebook HP\\\\Desktop\\\\Data\\\\article_7.html\"\n",
    "page = open(url, encoding=\"utf8\")\n",
    "soup = BeautifulSoup(page.read())\n",
    "\n",
    "titleTag = soup.html.head.title\n",
    "titleTag\n",
    "\n",
    "\n",
    "titleTag.string[:-12]"
   ]
  },
  {
   "cell_type": "code",
   "execution_count": 30,
   "metadata": {},
   "outputs": [],
   "source": [
    "InPlot = soup.findAll('p')\n",
    "l = []\n",
    "\n",
    "intro = InPlot[0].text.strip('\\n')\n",
    "#intro\n",
    "plot = InPlot[1].text.strip('\\n')\n",
    "#plot"
   ]
  },
  {
   "cell_type": "code",
   "execution_count": 31,
   "metadata": {},
   "outputs": [
    {
     "data": {
      "text/plain": [
       "'The Little Train Robbery is a parodic sequel to the 1903 film The Great Train Robbery with an all-child cast, released on September 1, 1905.[1] Both were directed by Edwin S. Porter.'"
      ]
     },
     "execution_count": 31,
     "metadata": {},
     "output_type": "execute_result"
    }
   ],
   "source": [
    "intro"
   ]
  },
  {
   "cell_type": "code",
   "execution_count": 32,
   "metadata": {},
   "outputs": [
    {
     "data": {
      "text/plain": [
       "'The opening scene shows the interior of the robbers\\' den. The walls are decorated with the portraits of notorious criminals and pictures illustrating the exploits of famous bandits. Some of the gang are lounging about, while others are reading novels and illustrated papers. Although of youthful appearance, each is dressed like a typical Western desperado. The \"Bandit Queen,\" leading a blindfolded new recruit, now enters the room. He is led to the center of the room, raises his right hand and is solemnly sworn in. When the bandage is removed from his eyes he finds himself looking into the muzzles of a dozen or more 45\\'s. The gang then congratulates the new member and heartily shake his hand. The \"Bandit Queen\" who is evidently the leader of the gang, now calls for volunteers to hold up a train. All respond, but she picks out seven for the job who immediately leave the cabin.'"
      ]
     },
     "execution_count": 32,
     "metadata": {},
     "output_type": "execute_result"
    }
   ],
   "source": [
    "plot"
   ]
  },
  {
   "cell_type": "code",
   "execution_count": 33,
   "metadata": {},
   "outputs": [],
   "source": [
    "d = {'film_name':'NA', 'Directed by': 'NA', 'Produced by': 'NA', 'Written by': 'NA', 'Starring':'NA', 'Music by': 'NA', 'Release date': 'NA', 'Running time': 'NA', 'Country': 'NA', 'Language': 'NA', 'Budget': 'NA'}"
   ]
  },
  {
   "cell_type": "code",
   "execution_count": 34,
   "metadata": {},
   "outputs": [
    {
     "data": {
      "text/plain": [
       "{'film_name': 'NA',\n",
       " 'Directed by': 'NA',\n",
       " 'Produced by': 'NA',\n",
       " 'Written by': 'NA',\n",
       " 'Starring': 'NA',\n",
       " 'Music by': 'NA',\n",
       " 'Release date': 'NA',\n",
       " 'Running time': 'NA',\n",
       " 'Country': 'NA',\n",
       " 'Language': 'NA',\n",
       " 'Budget': 'NA'}"
      ]
     },
     "execution_count": 34,
     "metadata": {},
     "output_type": "execute_result"
    }
   ],
   "source": [
    "d"
   ]
  },
  {
   "cell_type": "code",
   "execution_count": 35,
   "metadata": {},
   "outputs": [
    {
     "data": {
      "text/plain": [
       "[]"
      ]
     },
     "execution_count": 35,
     "metadata": {},
     "output_type": "execute_result"
    }
   ],
   "source": [
    "ta = soup.findAll(['th', 'td'])\n",
    "k = []\n",
    "for t in ta:\n",
    "    k.append(t.text.strip('\\n'))\n",
    "k"
   ]
  },
  {
   "cell_type": "code",
   "execution_count": 21,
   "metadata": {},
   "outputs": [],
   "source": [
    "d['film_name'] = k[0]\n",
    "for i in k:\n",
    "    if i in d:\n",
    "        d[i] = k[k.index(i)+1]"
   ]
  },
  {
   "cell_type": "code",
   "execution_count": 22,
   "metadata": {},
   "outputs": [
    {
     "data": {
      "text/plain": [
       "{'film_name': 'The Suburbanite',\n",
       " 'Directed by': 'Wallace McCutcheon',\n",
       " 'Produced by': 'NA',\n",
       " 'Written by': 'Frank Marion',\n",
       " 'Starring': 'John Troiano',\n",
       " 'Music by': 'NA',\n",
       " 'Release date': 'November 1904',\n",
       " 'Running time': 'NA',\n",
       " 'Country': 'United States',\n",
       " 'Language': 'Silent',\n",
       " 'Budget': 'NA'}"
      ]
     },
     "execution_count": 22,
     "metadata": {},
     "output_type": "execute_result"
    }
   ],
   "source": [
    "d"
   ]
  },
  {
   "cell_type": "code",
   "execution_count": 23,
   "metadata": {},
   "outputs": [],
   "source": [
    "import csv        \n",
    "ld = list(d.values())\n",
    "data = [d['film_name'], intro, plot]  + ld[1:]  \n",
    "\n",
    "with open(r'output.tsv', 'w', newline='') as f_output:\n",
    "    tsv_output = csv.writer(f_output, delimiter='\\t')\n",
    "    tsv_output.writerow(data)"
   ]
  },
  {
   "cell_type": "code",
   "execution_count": 24,
   "metadata": {},
   "outputs": [
    {
     "data": {
      "text/plain": [
       "['The Suburbanite',\n",
       " 'The Suburbanite is a 1904 American short comedy silent film directed by Wallace McCutcheion and starring John Troiano. The film was produced and distributed by the American Mutoscope & Biograph Company. Prints exist in the Library of Congress film archive and in the Museum of Modern Art film archive.[1]',\n",
       " 'The film is about a family who move to the suburbs, hoping for a quiet life. Things start to go wrong, and the wife gets violent and starts throwing crockery, leading to her arrest.',\n",
       " 'Wallace McCutcheon',\n",
       " 'NA',\n",
       " 'Frank Marion',\n",
       " 'John Troiano',\n",
       " 'NA',\n",
       " 'November 1904',\n",
       " 'NA',\n",
       " 'United States',\n",
       " 'Silent',\n",
       " 'NA']"
      ]
     },
     "execution_count": 24,
     "metadata": {},
     "output_type": "execute_result"
    }
   ],
   "source": [
    "data"
   ]
  },
  {
   "cell_type": "markdown",
   "metadata": {},
   "source": [
    "# Per tutti i film"
   ]
  },
  {
   "cell_type": "code",
   "execution_count": 38,
   "metadata": {},
   "outputs": [
    {
     "name": "stdout",
     "output_type": "stream",
     "text": [
      "Silent (English intertitles) 'charmap' codec can't encode character '\\u2264' in position 854: character maps to <undefined>\n"
     ]
    },
    {
     "ename": "IndexError",
     "evalue": "list index out of range",
     "output_type": "error",
     "traceback": [
      "\u001b[1;31m---------------------------------------------------------------------------\u001b[0m",
      "\u001b[1;31mIndexError\u001b[0m                                Traceback (most recent call last)",
      "\u001b[1;32m<ipython-input-38-e2b6058cb386>\u001b[0m in \u001b[0;36m<module>\u001b[1;34m\u001b[0m\n\u001b[0;32m     12\u001b[0m     \u001b[0mintro\u001b[0m \u001b[1;33m=\u001b[0m \u001b[0mInPlot\u001b[0m\u001b[1;33m[\u001b[0m\u001b[1;36m0\u001b[0m\u001b[1;33m]\u001b[0m\u001b[1;33m.\u001b[0m\u001b[0mtext\u001b[0m\u001b[1;33m.\u001b[0m\u001b[0mstrip\u001b[0m\u001b[1;33m(\u001b[0m\u001b[1;34m'\\n'\u001b[0m\u001b[1;33m)\u001b[0m\u001b[1;33m\u001b[0m\u001b[1;33m\u001b[0m\u001b[0m\n\u001b[0;32m     13\u001b[0m     \u001b[1;31m#intro\u001b[0m\u001b[1;33m\u001b[0m\u001b[1;33m\u001b[0m\u001b[1;33m\u001b[0m\u001b[0m\n\u001b[1;32m---> 14\u001b[1;33m     \u001b[0mplot\u001b[0m \u001b[1;33m=\u001b[0m \u001b[0mInPlot\u001b[0m\u001b[1;33m[\u001b[0m\u001b[1;36m1\u001b[0m\u001b[1;33m]\u001b[0m\u001b[1;33m.\u001b[0m\u001b[0mtext\u001b[0m\u001b[1;33m.\u001b[0m\u001b[0mstrip\u001b[0m\u001b[1;33m(\u001b[0m\u001b[1;34m'\\n'\u001b[0m\u001b[1;33m)\u001b[0m\u001b[1;33m\u001b[0m\u001b[1;33m\u001b[0m\u001b[0m\n\u001b[0m\u001b[0;32m     15\u001b[0m     \u001b[1;31m#plot\u001b[0m\u001b[1;33m\u001b[0m\u001b[1;33m\u001b[0m\u001b[1;33m\u001b[0m\u001b[0m\n\u001b[0;32m     16\u001b[0m \u001b[1;33m\u001b[0m\u001b[0m\n",
      "\u001b[1;31mIndexError\u001b[0m: list index out of range"
     ]
    }
   ],
   "source": [
    "from bs4 import BeautifulSoup\n",
    "import re\n",
    "\n",
    "for j in range(10000):\n",
    "    url = \"C:\\\\Users\\\\Notebook HP\\\\Desktop\\\\Data\\\\article_{}.html\".format(j)\n",
    "    page = open(url, encoding=\"utf8\")\n",
    "    soup = BeautifulSoup(page.read())\n",
    "\n",
    "    InPlot = soup.findAll('p')\n",
    "    l = []\n",
    "\n",
    "    intro = InPlot[0].text.strip('\\n')\n",
    "    #intro\n",
    "    plot = InPlot[1].text.strip('\\n')\n",
    "    #plot\n",
    "\n",
    "    d = {'film_name':'NA', 'Directed by': 'NA', 'Produced by': 'NA', 'Written by': 'NA', 'Starring':'NA', 'Music by': 'NA', 'Release date': 'NA', 'Running time': 'NA', 'Country': 'NA', 'Language': 'NA', 'Budget': 'NA'}\n",
    "\n",
    "    ta = soup.findAll(['th', 'td'])\n",
    "    k = []\n",
    "    for t in ta:\n",
    "        k.append(t.text.strip('\\n'))\n",
    "    if len(k) == 0:\n",
    "        continue\n",
    "    d['film_name'] = k[0]\n",
    "    for i in k:\n",
    "        if i in d:\n",
    "            d[i] = k[k.index(i)+1]\n",
    "\n",
    "    import csv        \n",
    "    ld = list(d.values())\n",
    "    data = [d['film_name'], intro, plot]  + ld[1:]  \n",
    "    try:\n",
    "        with open(r'article_{}.tsv'.format(j), 'w', newline='') as f_output:\n",
    "            tsv_output = csv.writer(f_output, delimiter='\\t')\n",
    "            tsv_output.writerow(data)\n",
    "    except Exception as e:\n",
    "        print(i, e)\n",
    "        continue"
   ]
  },
  {
   "cell_type": "code",
   "execution_count": null,
   "metadata": {},
   "outputs": [],
   "source": []
  }
 ],
 "metadata": {
  "kernelspec": {
   "display_name": "Python 3",
   "language": "python",
   "name": "python3"
  },
  "language_info": {
   "codemirror_mode": {
    "name": "ipython",
    "version": 3
   },
   "file_extension": ".py",
   "mimetype": "text/x-python",
   "name": "python",
   "nbconvert_exporter": "python",
   "pygments_lexer": "ipython3",
   "version": "3.7.1"
  }
 },
 "nbformat": 4,
 "nbformat_minor": 2
}
