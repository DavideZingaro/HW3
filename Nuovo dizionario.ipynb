{
 "cells": [
  {
   "cell_type": "code",
   "execution_count": null,
   "metadata": {},
   "outputs": [],
   "source": [
    "from collections import defaultdict\n",
    "from nltk.tokenize import sent_tokenize, word_tokenize\n",
    "import os\n",
    "import math\n",
    "from nltk.stem import PorterStemmer\n",
    "import math\n",
    "from collections import Counter\n",
    "\n",
    "\n",
    "\n",
    "\n",
    "os.chdir('C:\\\\Users\\\\Daniele\\\\Desktop\\\\Homework 3\\\\Tsv file')\n",
    "Folder=os.listdir()\n",
    "Vocabulary=defaultdict(list)\n",
    "Lenghts=defaultdict(list)\n",
    "for j in range(10000):\n",
    "    name='document_{}'.format(j)\n",
    "    try:\n",
    "        document=open(str(r'C:\\\\Users\\\\Daniele\\\\Desktop\\\\Homework 3\\\\Tsv file\\\\Article_{}.tsv'.format(j)),'r+',encoding='utf-8')\n",
    "    except Exception as e:\n",
    "        continue\n",
    "    words=word_tokenize(document.read())\n",
    "    lenght=len(words)\n",
    "    Lenghts[name].append(lenght)\n",
    "    \n",
    "for j in range(10000):\n",
    "    name='document_{}'.format(j)\n",
    "    try:\n",
    "        document=open(str(r'C:\\\\Users\\\\Daniele\\\\Desktop\\\\Homework 3\\\\Tsv file\\\\Article_{}.tsv'.format(j)),'r+',encoding='utf-8')\n",
    "    except Exception as e:\n",
    "        continue\n",
    "    words=word_tokenize(document.read())\n",
    "    words\n",
    "    for w in words:\n",
    "        if ',' in w:\n",
    "            n_w=w.split(',')\n",
    "            for w in n_w:\n",
    "                V=Vocabulary[w]\n",
    "                #if name not in V:\n",
    "                Vocabulary[w].append(name)\n",
    "        else:\n",
    "            V=Vocabulary[w]\n",
    "            #if name not in V:\n",
    "            Vocabulary[w].append(name)\n",
    "\n",
    "N_Vocabulary=defaultdict(list)\n",
    "for k in Vocabulary.keys():\n",
    "    new_diz=Counter(Vocabulary[k])\n",
    "    repetition=len(Vocabulary[k])\n",
    "    IDF=math.log(10000/repetition)\n",
    "    for elem in new_diz:\n",
    "        valore=(new_diz[elem],Lenghts[elem][0])\n",
    "        Tf=(valore[0])/(valore[1])\n",
    "        Finale=(elem,Tf*IDF)\n",
    "        N_Vocabulary[k].append(Finale)"
   ]
  }
 ],
 "metadata": {
  "kernelspec": {
   "display_name": "Python 3",
   "language": "python",
   "name": "python3"
  },
  "language_info": {
   "codemirror_mode": {
    "name": "ipython",
    "version": 3
   },
   "file_extension": ".py",
   "mimetype": "text/x-python",
   "name": "python",
   "nbconvert_exporter": "python",
   "pygments_lexer": "ipython3",
   "version": "3.7.3"
  }
 },
 "nbformat": 4,
 "nbformat_minor": 2
}
