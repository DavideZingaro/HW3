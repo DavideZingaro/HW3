{
 "cells": [
  {
   "cell_type": "markdown",
   "metadata": {},
   "source": [
    "### Questo serve per gli stop words (sono le nostre congiunzioni,ecc....)"
   ]
  },
  {
   "cell_type": "code",
   "execution_count": null,
   "metadata": {},
   "outputs": [],
   "source": [
    "from nltk,corpus import stopwords\n",
    "from nltk.tokenize import word_tokenize \n",
    "documents='[lista di documenti che avremo]'\n",
    "stop_words=set(stopwords.words('english'))\n",
    "Filtered_Documents=[]\n",
    "for elem in documents:\n",
    "    document=elem\n",
    "    words=word_tokenize(document)\n",
    "    filtered_document=[w for w in words if not stop_words]\n",
    "    Filtered_Documents+=[filtered_documents]\n",
    "    \n",
    "            \n",
    "    "
   ]
  },
  {
   "cell_type": "markdown",
   "metadata": {},
   "source": [
    "### Questo serve a fare lo stemming cioè prende parole tipo [casale,casolare,casetta] restituisce [casa,casa,casa]"
   ]
  },
  {
   "cell_type": "code",
   "execution_count": null,
   "metadata": {},
   "outputs": [],
   "source": [
    "from nltk.stem import PorterStemmer \n",
    "from nltk.tokenize import word_tokenize\n",
    "ps=PorterStemmer()\n",
    "Stemmed_Documents=[]\n",
    "for elem in Filtered_Document:\n",
    "    document=elem\n",
    "    stemmed_document=[ps.stem(w) for w in document] #da rivedere\n",
    "    Stemmed_Documents+=[stemmed_document]"
   ]
  },
  {
   "cell_type": "markdown",
   "metadata": {},
   "source": [
    "### Questo serve a togliere la punteggiatura"
   ]
  },
  {
   "cell_type": "code",
   "execution_count": null,
   "metadata": {},
   "outputs": [],
   "source": [
    "import string \n",
    "punctuations = list(string.punctuation)\n",
    "punctuations.append(\"''\")\n",
    "Final_Doc=[]\n",
    "for elem in Stemmed_Documents:\n",
    "    document=elem\n",
    "    without_punctation=[w for w in document if not in punctuations]\n",
    "    Final_Doc+=[without_punctation]"
   ]
  },
  {
   "cell_type": "markdown",
   "metadata": {},
   "source": [
    "### 2.2 similarity (solo un idea)"
   ]
  },
  {
   "cell_type": "code",
   "execution_count": 1,
   "metadata": {},
   "outputs": [
    {
     "ename": "SyntaxError",
     "evalue": "invalid syntax (<ipython-input-1-51390d856637>, line 10)",
     "output_type": "error",
     "traceback": [
      "\u001b[1;36m  File \u001b[1;32m\"<ipython-input-1-51390d856637>\"\u001b[1;36m, line \u001b[1;32m10\u001b[0m\n\u001b[1;33m    for i in range len(Documents_10):\u001b[0m\n\u001b[1;37m                     ^\u001b[0m\n\u001b[1;31mSyntaxError\u001b[0m\u001b[1;31m:\u001b[0m invalid syntax\n"
     ]
    }
   ],
   "source": [
    "\n",
    "\n",
    "        \n",
    "            "
   ]
  },
  {
   "cell_type": "markdown",
   "metadata": {},
   "source": [
    "### 2.2 Similarity"
   ]
  },
  {
   "cell_type": "code",
   "execution_count": null,
   "metadata": {},
   "outputs": [],
   "source": []
  }
 ],
 "metadata": {
  "kernelspec": {
   "display_name": "Python 3",
   "language": "python",
   "name": "python3"
  },
  "language_info": {
   "codemirror_mode": {
    "name": "ipython",
    "version": 3
   },
   "file_extension": ".py",
   "mimetype": "text/x-python",
   "name": "python",
   "nbconvert_exporter": "python",
   "pygments_lexer": "ipython3",
   "version": "3.7.3"
  }
 },
 "nbformat": 4,
 "nbformat_minor": 2
}
