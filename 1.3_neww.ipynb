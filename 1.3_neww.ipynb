{
 "cells": [
  {
   "cell_type": "code",
   "execution_count": 82,
   "metadata": {},
   "outputs": [
    {
     "data": {
      "text/plain": [
       "'The Gulf Between'"
      ]
     },
     "execution_count": 82,
     "metadata": {},
     "output_type": "execute_result"
    }
   ],
   "source": [
    "from bs4 import BeautifulSoup\n",
    "import re\n",
    "\n",
    "\n",
    "url = \"C:\\\\Users\\\\Notebook HP\\\\Desktop\\\\Data\\\\article_167.html\"\n",
    "page = open(url, encoding=\"utf8\")\n",
    "soup = BeautifulSoup(page.read())\n",
    "\n",
    "titleTag = soup.html.head.title\n",
    "titleTag\n",
    "\n",
    "\n",
    "titleTag.string[:-12]"
   ]
  },
  {
   "cell_type": "code",
   "execution_count": 83,
   "metadata": {},
   "outputs": [
    {
     "name": "stdout",
     "output_type": "stream",
     "text": [
      "The Gulf Between is a 1917 American comedy drama film that was the first motion picture made in Technicolor, the fourth feature-length color movie,[3] and the first feature-length color movie produced in the United States. The film was destroyed in a fire on 25 March 1961. Today, the film is considered a lost film, with only very short fragments known to survive. These fragments are in the collections of the Margaret Herrick Library, George Eastman House Motion Picture Collection, and the Smithsonian National Museum of American History Photographic History Collection.[4]\n",
      "\n",
      "The Gulf Between, which runs for about 58 minutes,[5] was directed by Wray Physioc. The lead roles were played by Grace Darmond and Niles Welch.\n",
      "\n",
      "As described in a film magazine,[6] little Marie Farrell (Axzelle), through the carelessness of her nurse, is lost and believed drowned. She has wandered upon the ship of the smuggler Captain Flagg (Brandt), who finds her and brings her up as his own. Her parents adopt a boy to help them forget their grief.\n",
      "\n",
      "The girl grows up with no memory of her former life. The adopted boy moves in the smart set in Mayport, and his parents try to make a match between him and a society girl. Marie (Darmond) is brought to her adopted father's sister, as the old captain believes she should have the care of a loving woman. She meets young Richard Farrell (Welch) and the two come to love each other. The Farrells do everything they can to break up the couple, but with the help of the captain a marriage is accomplished. There is a stormy meeting between the bridal pair and the parents, during which the captain sees a portrait of Marie as a baby and, realizing the truth, tells the story of her life. The family is reunited and Mary and Richard spend their honeymoon on the captain's ship.\n",
      "\n",
      "The Gulf Between was filmed on location in Jacksonville, Florida in 1917 by the Technicolor Motion Picture Corporation, using its two-color \"System 1\", in which, by means of a prism beam splitter, two consecutive frames of a single strip of black-and-white film were photographed simultaneously, one behind a red filter and the other behind a green filter.\n",
      "\n",
      "After private trade showings in Boston on September 13, 1917,[7] and at Aeolian Hall in New York City on September 21, 1917,[8] it was released on February 25, 1918 to play one-week engagements on a tour of a few major Eastern cities, accompanied by the special two-aperture, two-lens, two-filter projector required to exhibit it. Because of the technical problems in keeping the red and green images aligned by prism during projection, it was the only motion picture made in Technicolor's System 1. Technicolor abandoned the additive color process of System 1, and began work on subtractive color processes that did not require a special projector.\n",
      "\n",
      "Photoplay magazine complained that all colors were reduced into terms of reds and greens, and that \"the story is dull, trite, and drawn out interminably.\"[9]\n",
      "\n"
     ]
    }
   ],
   "source": [
    "InPlot = soup.findAll('p')\n",
    "l = []\n",
    "for t in InPlot:\n",
    "    print(t.text)\n",
    "#intro = InPlot[0].text.strip('\\n')\n",
    "#intro\n",
    "#plot = InPlot[1].text.strip('\\n')\n",
    "#plot\n",
    "\n"
   ]
  },
  {
   "cell_type": "code",
   "execution_count": 84,
   "metadata": {},
   "outputs": [
    {
     "data": {
      "text/plain": [
       "'The Gulf Between is a 1917 American comedy drama film that was the first motion picture made in Technicolor, the fourth feature-length color movie,[3] and the first feature-length color movie produced in the United States. The film was destroyed in a fire on 25 March 1961. Today, the film is considered a lost film, with only very short fragments known to survive. These fragments are in the collections of the Margaret Herrick Library, George Eastman House Motion Picture Collection, and the Smithsonian National Museum of American History Photographic History Collection.[4]'"
      ]
     },
     "execution_count": 84,
     "metadata": {},
     "output_type": "execute_result"
    }
   ],
   "source": [
    "intro"
   ]
  },
  {
   "cell_type": "code",
   "execution_count": 85,
   "metadata": {},
   "outputs": [
    {
     "data": {
      "text/plain": [
       "'The Gulf Between, which runs for about 58 minutes,[5] was directed by Wray Physioc. The lead roles were played by Grace Darmond and Niles Welch.'"
      ]
     },
     "execution_count": 85,
     "metadata": {},
     "output_type": "execute_result"
    }
   ],
   "source": [
    "plot"
   ]
  },
  {
   "cell_type": "code",
   "execution_count": 86,
   "metadata": {},
   "outputs": [],
   "source": [
    "d = {'film_name':'NA', 'Directed by': 'NA', 'Produced by': 'NA', 'Written by': 'NA', 'Starring':'NA', 'Music by': 'NA', 'Release date': 'NA', 'Running time': 'NA', 'Country': 'NA', 'Language': 'NA', 'Budget': 'NA'}"
   ]
  },
  {
   "cell_type": "code",
   "execution_count": 87,
   "metadata": {},
   "outputs": [
    {
     "data": {
      "text/plain": [
       "{'film_name': 'NA',\n",
       " 'Directed by': 'NA',\n",
       " 'Produced by': 'NA',\n",
       " 'Written by': 'NA',\n",
       " 'Starring': 'NA',\n",
       " 'Music by': 'NA',\n",
       " 'Release date': 'NA',\n",
       " 'Running time': 'NA',\n",
       " 'Country': 'NA',\n",
       " 'Language': 'NA',\n",
       " 'Budget': 'NA'}"
      ]
     },
     "execution_count": 87,
     "metadata": {},
     "output_type": "execute_result"
    }
   ],
   "source": [
    "d"
   ]
  },
  {
   "cell_type": "code",
   "execution_count": 88,
   "metadata": {},
   "outputs": [
    {
     "data": {
      "text/plain": [
       "['The Gulf Between',\n",
       " 'A surviving frame of the film from a subtractive printing test, approximating the appearance of the original additive two-color projection',\n",
       " 'Directed by',\n",
       " 'Wray Physioc',\n",
       " 'Written by',\n",
       " 'Anthony Paul KellyJ. Parker Read Jr.',\n",
       " 'Starring',\n",
       " 'Grace Darmond Niles Welch',\n",
       " 'Cinematography',\n",
       " 'Carl Gregory',\n",
       " 'Distributed by',\n",
       " 'Technicolor Motion Picture Corporation[1]',\n",
       " 'Release date',\n",
       " 'September\\xa013,\\xa01917\\xa0(1917-09-13)',\n",
       " 'Running time',\n",
       " '≤ 58 minutes at 32 frame/sec. (seven reels[1])[2]',\n",
       " 'Country',\n",
       " 'United States',\n",
       " 'Language',\n",
       " 'Silent (English intertitles)']"
      ]
     },
     "execution_count": 88,
     "metadata": {},
     "output_type": "execute_result"
    }
   ],
   "source": [
    "ta = soup.findAll(['th', 'td'])\n",
    "k = []\n",
    "for t in ta:\n",
    "    k.append(t.text.strip('\\n'))\n",
    "k"
   ]
  },
  {
   "cell_type": "code",
   "execution_count": 89,
   "metadata": {},
   "outputs": [],
   "source": [
    "#d['film_name'] = k[0]\n",
    "for i in k:\n",
    "    if i in d:\n",
    "        d[i] = k[k.index(i)+1]"
   ]
  },
  {
   "cell_type": "code",
   "execution_count": 90,
   "metadata": {},
   "outputs": [
    {
     "data": {
      "text/plain": [
       "{'film_name': 'NA',\n",
       " 'Directed by': 'Wray Physioc',\n",
       " 'Produced by': 'NA',\n",
       " 'Written by': 'Anthony Paul KellyJ. Parker Read Jr.',\n",
       " 'Starring': 'Grace Darmond Niles Welch',\n",
       " 'Music by': 'NA',\n",
       " 'Release date': 'September\\xa013,\\xa01917\\xa0(1917-09-13)',\n",
       " 'Running time': '≤ 58 minutes at 32 frame/sec. (seven reels[1])[2]',\n",
       " 'Country': 'United States',\n",
       " 'Language': 'Silent (English intertitles)',\n",
       " 'Budget': 'NA'}"
      ]
     },
     "execution_count": 90,
     "metadata": {},
     "output_type": "execute_result"
    }
   ],
   "source": [
    "d"
   ]
  },
  {
   "cell_type": "code",
   "execution_count": 95,
   "metadata": {},
   "outputs": [],
   "source": [
    "import csv \n",
    "ld = list(d.values())\n",
    "data = [titleTag.string[:-12],intro, plot]  + ld[1:]  \n",
    "\n",
    "with open(r'output.tsv', 'w', newline='',encoding='utf-8') as f_output:\n",
    "    tsv_output = csv.writer(f_output, delimiter='\\t')\n",
    "    tsv_output.writerow(data)"
   ]
  },
  {
   "cell_type": "code",
   "execution_count": 96,
   "metadata": {},
   "outputs": [
    {
     "data": {
      "text/plain": [
       "['The Gulf Between',\n",
       " 'The Gulf Between is a 1917 American comedy drama film that was the first motion picture made in Technicolor, the fourth feature-length color movie,[3] and the first feature-length color movie produced in the United States. The film was destroyed in a fire on 25 March 1961. Today, the film is considered a lost film, with only very short fragments known to survive. These fragments are in the collections of the Margaret Herrick Library, George Eastman House Motion Picture Collection, and the Smithsonian National Museum of American History Photographic History Collection.[4]',\n",
       " 'The Gulf Between, which runs for about 58 minutes,[5] was directed by Wray Physioc. The lead roles were played by Grace Darmond and Niles Welch.',\n",
       " 'Wray Physioc',\n",
       " 'NA',\n",
       " 'Anthony Paul KellyJ. Parker Read Jr.',\n",
       " 'Grace Darmond Niles Welch',\n",
       " 'NA',\n",
       " 'September\\xa013,\\xa01917\\xa0(1917-09-13)',\n",
       " '≤ 58 minutes at 32 frame/sec. (seven reels[1])[2]',\n",
       " 'United States',\n",
       " 'Silent (English intertitles)',\n",
       " 'NA']"
      ]
     },
     "execution_count": 96,
     "metadata": {},
     "output_type": "execute_result"
    }
   ],
   "source": [
    "data"
   ]
  },
  {
   "cell_type": "markdown",
   "metadata": {},
   "source": [
    "# Per tutti i film"
   ]
  },
  {
   "cell_type": "code",
   "execution_count": 97,
   "metadata": {
    "scrolled": true
   },
   "outputs": [
    {
     "name": "stdout",
     "output_type": "stream",
     "text": [
      "218 list index out of range\n",
      "342 list index out of range\n",
      "498 list index out of range\n",
      "667 list index out of range\n",
      "850 list index out of range\n",
      "854 list index out of range\n",
      "912 list index out of range\n",
      "978 list index out of range\n",
      "1029 list index out of range\n",
      "1140 list index out of range\n",
      "1174 list index out of range\n",
      "1191 list index out of range\n",
      "1208 list index out of range\n",
      "1297 list index out of range\n",
      "1334 list index out of range\n",
      "1343 list index out of range\n",
      "1361 list index out of range\n",
      "1420 list index out of range\n",
      "1650 list index out of range\n",
      "1772 list index out of range\n",
      "1817 list index out of range\n",
      "1899 list index out of range\n",
      "1965 list index out of range\n",
      "2037 list index out of range\n",
      "2256 list index out of range\n",
      "2278 list index out of range\n",
      "2381 list index out of range\n",
      "2618 list index out of range\n",
      "2936 list index out of range\n",
      "3346 list index out of range\n",
      "3393 list index out of range\n",
      "3485 list index out of range\n",
      "3715 list index out of range\n",
      "3825 list index out of range\n",
      "3975 list index out of range\n",
      "4124 list index out of range\n",
      "4127 list index out of range\n",
      "4351 list index out of range\n",
      "4446 list index out of range\n",
      "4455 list index out of range\n",
      "4462 list index out of range\n",
      "4503 list index out of range\n",
      "4555 list index out of range\n",
      "4707 list index out of range\n",
      "4775 list index out of range\n",
      "4787 list index out of range\n",
      "4896 list index out of range\n",
      "4905 list index out of range\n",
      "5006 list index out of range\n",
      "5187 list index out of range\n",
      "5529 list index out of range\n",
      "5619 list index out of range\n",
      "5675 list index out of range\n",
      "5882 list index out of range\n",
      "6035 list index out of range\n",
      "6076 list index out of range\n",
      "6230 list index out of range\n",
      "6289 list index out of range\n",
      "6372 list index out of range\n",
      "6482 list index out of range\n",
      "6561 list index out of range\n",
      "6597 list index out of range\n",
      "7102 list index out of range\n",
      "7152 list index out of range\n",
      "7474 list index out of range\n",
      "7498 list index out of range\n",
      "7533 list index out of range\n",
      "7615 list index out of range\n",
      "7720 list index out of range\n",
      "7746 list index out of range\n",
      "8221 list index out of range\n",
      "8234 list index out of range\n",
      "8315 list index out of range\n",
      "8379 list index out of range\n",
      "8484 list index out of range\n",
      "8818 list index out of range\n",
      "8945 list index out of range\n",
      "8948 list index out of range\n",
      "9054 list index out of range\n",
      "9084 list index out of range\n",
      "9150 list index out of range\n",
      "9181 list index out of range\n",
      "9349 list index out of range\n",
      "9350 list index out of range\n",
      "9387 list index out of range\n",
      "9429 [Errno 2] No such file or directory: 'C:\\\\Users\\\\Notebook HP\\\\Desktop\\\\Data\\\\article_9429.html'\n",
      "9485 list index out of range\n",
      "9671 [Errno 2] No such file or directory: 'C:\\\\Users\\\\Notebook HP\\\\Desktop\\\\Data\\\\article_9671.html'\n",
      "9691 list index out of range\n",
      "9707 list index out of range\n",
      "9715 list index out of range\n",
      "9742 list index out of range\n",
      "9759 list index out of range\n",
      "9953 list index out of range\n",
      "9959 list index out of range\n"
     ]
    }
   ],
   "source": [
    "from bs4 import BeautifulSoup\n",
    "import re\n",
    "\n",
    "for j in range(10000):\n",
    "    try:\n",
    "        url = \"C:\\\\Users\\\\Notebook HP\\\\Desktop\\\\Data\\\\article_{}.html\".format(j)\n",
    "        page = open(url, encoding=\"utf8\")\n",
    "        soup = BeautifulSoup(page.read())\n",
    "        titleTag = soup.html.head.title\n",
    "\n",
    "        InPlot = soup.findAll('p')\n",
    "        #l = []\n",
    "\n",
    "        intro = InPlot[0].text.strip('\\n')\n",
    "        #intro\n",
    "        plot = InPlot[1].text.strip('\\n')\n",
    "        #plot\n",
    "\n",
    "        d = {'film_name':'NA', 'Directed by': 'NA', 'Produced by': 'NA', 'Written by': 'NA', 'Starring':'NA', 'Music by': 'NA', 'Release date': 'NA', 'Running time': 'NA', 'Country': 'NA', 'Language': 'NA', 'Budget': 'NA'}\n",
    "\n",
    "        ta = soup.findAll(['th', 'td'])\n",
    "        k = []\n",
    "        for t in ta:\n",
    "            k.append(t.text.strip('\\n'))\n",
    "        if len(k) == 0:\n",
    "            continue\n",
    "        #d['film_name'] = k[0]\n",
    "        for i in k:\n",
    "            if i in d:\n",
    "                d[i] = k[k.index(i)+1]\n",
    "\n",
    "        import csv        \n",
    "        ld = list(d.values())\n",
    "        data = [titleTag.string[:-12], intro, plot]  + ld  \n",
    "   \n",
    "        with open(r'article_{}.tsv'.format(j), 'w', newline='', encoding='utf-8') as f_output:\n",
    "            tsv_output = csv.writer(f_output, delimiter='\\t')\n",
    "            tsv_output.writerow(data)\n",
    "    except Exception as e:\n",
    "        print(j, e)\n",
    "        continue"
   ]
  },
  {
   "cell_type": "code",
   "execution_count": null,
   "metadata": {},
   "outputs": [],
   "source": []
  }
 ],
 "metadata": {
  "kernelspec": {
   "display_name": "Python 3",
   "language": "python",
   "name": "python3"
  },
  "language_info": {
   "codemirror_mode": {
    "name": "ipython",
    "version": 3
   },
   "file_extension": ".py",
   "mimetype": "text/x-python",
   "name": "python",
   "nbconvert_exporter": "python",
   "pygments_lexer": "ipython3",
   "version": "3.7.1"
  }
 },
 "nbformat": 4,
 "nbformat_minor": 2
}
