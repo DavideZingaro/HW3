{
 "cells": [
  {
   "cell_type": "code",
   "execution_count": 49,
   "metadata": {},
   "outputs": [
    {
     "data": {
      "text/plain": [
       "'The Gulf Between'"
      ]
     },
     "execution_count": 49,
     "metadata": {},
     "output_type": "execute_result"
    }
   ],
   "source": [
    "from bs4 import BeautifulSoup\n",
    "import re\n",
    "\n",
    "\n",
    "url = \"C:\\\\Users\\\\Notebook HP\\\\Desktop\\\\Data\\\\article_167.html\"\n",
    "page = open(url, encoding=\"utf8\")\n",
    "soup = BeautifulSoup(page.read())\n",
    "\n",
    "titleTag = soup.html.head.title\n",
    "titleTag\n",
    "\n",
    "\n",
    "titleTag.string[:-12]"
   ]
  },
  {
   "cell_type": "code",
   "execution_count": 68,
   "metadata": {},
   "outputs": [
    {
     "name": "stdout",
     "output_type": "stream",
     "text": [
      "The Gulf Between is a 1917 American comedy drama film that was the first motion picture made in Technicolor, the fourth feature-length color movie,[3] and the first feature-length color movie produced in the United States. The film was destroyed in a fire on 25 March 1961. Today, the film is considered a lost film, with only very short fragments known to survive. These fragments are in the collections of the Margaret Herrick Library, George Eastman House Motion Picture Collection, and the Smithsonian National Museum of American History Photographic History Collection.[4]\n",
      "\n",
      "The Gulf Between, which runs for about 58 minutes,[5] was directed by Wray Physioc. The lead roles were played by Grace Darmond and Niles Welch.\n",
      "\n",
      "As described in a film magazine,[6] little Marie Farrell (Axzelle), through the carelessness of her nurse, is lost and believed drowned. She has wandered upon the ship of the smuggler Captain Flagg (Brandt), who finds her and brings her up as his own. Her parents adopt a boy to help them forget their grief.\n",
      "\n",
      "The girl grows up with no memory of her former life. The adopted boy moves in the smart set in Mayport, and his parents try to make a match between him and a society girl. Marie (Darmond) is brought to her adopted father's sister, as the old captain believes she should have the care of a loving woman. She meets young Richard Farrell (Welch) and the two come to love each other. The Farrells do everything they can to break up the couple, but with the help of the captain a marriage is accomplished. There is a stormy meeting between the bridal pair and the parents, during which the captain sees a portrait of Marie as a baby and, realizing the truth, tells the story of her life. The family is reunited and Mary and Richard spend their honeymoon on the captain's ship.\n",
      "\n",
      "The Gulf Between was filmed on location in Jacksonville, Florida in 1917 by the Technicolor Motion Picture Corporation, using its two-color \"System 1\", in which, by means of a prism beam splitter, two consecutive frames of a single strip of black-and-white film were photographed simultaneously, one behind a red filter and the other behind a green filter.\n",
      "\n",
      "After private trade showings in Boston on September 13, 1917,[7] and at Aeolian Hall in New York City on September 21, 1917,[8] it was released on February 25, 1918 to play one-week engagements on a tour of a few major Eastern cities, accompanied by the special two-aperture, two-lens, two-filter projector required to exhibit it. Because of the technical problems in keeping the red and green images aligned by prism during projection, it was the only motion picture made in Technicolor's System 1. Technicolor abandoned the additive color process of System 1, and began work on subtractive color processes that did not require a special projector.\n",
      "\n",
      "Photoplay magazine complained that all colors were reduced into terms of reds and greens, and that \"the story is dull, trite, and drawn out interminably.\"[9]\n",
      "\n"
     ]
    }
   ],
   "source": [
    "InPlot = soup.findAll('p')\n",
    "l = []\n",
    "for t in InPlot:\n",
    "    print(t.text)\n",
    "#intro = InPlot[0].text.strip('\\n')\n",
    "#intro\n",
    "#plot = InPlot[1].text.strip('\\n')\n",
    "#plot\n"
   ]
  },
  {
   "cell_type": "code",
   "execution_count": 51,
   "metadata": {},
   "outputs": [
    {
     "data": {
      "text/plain": [
       "'The Gulf Between is a 1917 American comedy drama film that was the first motion picture made in Technicolor, the fourth feature-length color movie,[3] and the first feature-length color movie produced in the United States. The film was destroyed in a fire on 25 March 1961. Today, the film is considered a lost film, with only very short fragments known to survive. These fragments are in the collections of the Margaret Herrick Library, George Eastman House Motion Picture Collection, and the Smithsonian National Museum of American History Photographic History Collection.[4]'"
      ]
     },
     "execution_count": 51,
     "metadata": {},
     "output_type": "execute_result"
    }
   ],
   "source": [
    "intro"
   ]
  },
  {
   "cell_type": "code",
   "execution_count": 67,
   "metadata": {},
   "outputs": [
    {
     "data": {
      "text/plain": [
       "'The Gulf Between, which runs for about 58 minutes,[5] was directed by Wray Physioc. The lead roles were played by Grace Darmond and Niles Welch.'"
      ]
     },
     "execution_count": 67,
     "metadata": {},
     "output_type": "execute_result"
    }
   ],
   "source": [
    "plot"
   ]
  },
  {
   "cell_type": "code",
   "execution_count": 53,
   "metadata": {},
   "outputs": [],
   "source": [
    "d = {'film_name':'NA', 'Directed by': 'NA', 'Produced by': 'NA', 'Written by': 'NA', 'Starring':'NA', 'Music by': 'NA', 'Release date': 'NA', 'Running time': 'NA', 'Country': 'NA', 'Language': 'NA', 'Budget': 'NA'}"
   ]
  },
  {
   "cell_type": "code",
   "execution_count": 54,
   "metadata": {},
   "outputs": [
    {
     "data": {
      "text/plain": [
       "{'film_name': 'NA',\n",
       " 'Directed by': 'NA',\n",
       " 'Produced by': 'NA',\n",
       " 'Written by': 'NA',\n",
       " 'Starring': 'NA',\n",
       " 'Music by': 'NA',\n",
       " 'Release date': 'NA',\n",
       " 'Running time': 'NA',\n",
       " 'Country': 'NA',\n",
       " 'Language': 'NA',\n",
       " 'Budget': 'NA'}"
      ]
     },
     "execution_count": 54,
     "metadata": {},
     "output_type": "execute_result"
    }
   ],
   "source": [
    "d"
   ]
  },
  {
   "cell_type": "code",
   "execution_count": 55,
   "metadata": {},
   "outputs": [
    {
     "data": {
      "text/plain": [
       "['The Gulf Between',\n",
       " 'A surviving frame of the film from a subtractive printing test, approximating the appearance of the original additive two-color projection',\n",
       " 'Directed by',\n",
       " 'Wray Physioc',\n",
       " 'Written by',\n",
       " 'Anthony Paul KellyJ. Parker Read Jr.',\n",
       " 'Starring',\n",
       " 'Grace Darmond Niles Welch',\n",
       " 'Cinematography',\n",
       " 'Carl Gregory',\n",
       " 'Distributed by',\n",
       " 'Technicolor Motion Picture Corporation[1]',\n",
       " 'Release date',\n",
       " 'September\\xa013,\\xa01917\\xa0(1917-09-13)',\n",
       " 'Running time',\n",
       " '≤ 58 minutes at 32 frame/sec. (seven reels[1])[2]',\n",
       " 'Country',\n",
       " 'United States',\n",
       " 'Language',\n",
       " 'Silent (English intertitles)']"
      ]
     },
     "execution_count": 55,
     "metadata": {},
     "output_type": "execute_result"
    }
   ],
   "source": [
    "ta = soup.findAll(['th', 'td'])\n",
    "k = []\n",
    "for t in ta:\n",
    "    k.append(t.text.strip('\\n'))\n",
    "k"
   ]
  },
  {
   "cell_type": "code",
   "execution_count": 58,
   "metadata": {},
   "outputs": [],
   "source": [
    "#d['film_name'] = k[0]\n",
    "for i in k:\n",
    "    if i in d:\n",
    "        d[i] = k[k.index(i)+1]"
   ]
  },
  {
   "cell_type": "code",
   "execution_count": 59,
   "metadata": {},
   "outputs": [
    {
     "data": {
      "text/plain": [
       "{'film_name': 'NA',\n",
       " 'Directed by': 'Wray Physioc',\n",
       " 'Produced by': 'NA',\n",
       " 'Written by': 'Anthony Paul KellyJ. Parker Read Jr.',\n",
       " 'Starring': 'Grace Darmond Niles Welch',\n",
       " 'Music by': 'NA',\n",
       " 'Release date': 'September\\xa013,\\xa01917\\xa0(1917-09-13)',\n",
       " 'Running time': '≤ 58 minutes at 32 frame/sec. (seven reels[1])[2]',\n",
       " 'Country': 'United States',\n",
       " 'Language': 'Silent (English intertitles)',\n",
       " 'Budget': 'NA'}"
      ]
     },
     "execution_count": 59,
     "metadata": {},
     "output_type": "execute_result"
    }
   ],
   "source": [
    "d"
   ]
  },
  {
   "cell_type": "code",
   "execution_count": 63,
   "metadata": {},
   "outputs": [
    {
     "ename": "UnicodeEncodeError",
     "evalue": "'charmap' codec can't encode character '\\u2264' in position 854: character maps to <undefined>",
     "output_type": "error",
     "traceback": [
      "\u001b[1;31m---------------------------------------------------------------------------\u001b[0m",
      "\u001b[1;31mUnicodeEncodeError\u001b[0m                        Traceback (most recent call last)",
      "\u001b[1;32m<ipython-input-63-8cd5009a9f6c>\u001b[0m in \u001b[0;36m<module>\u001b[1;34m\u001b[0m\n\u001b[0;32m      5\u001b[0m \u001b[1;32mwith\u001b[0m \u001b[0mopen\u001b[0m\u001b[1;33m(\u001b[0m\u001b[1;34mr'output.tsv'\u001b[0m\u001b[1;33m,\u001b[0m \u001b[1;34m'w'\u001b[0m\u001b[1;33m,\u001b[0m \u001b[0mnewline\u001b[0m\u001b[1;33m=\u001b[0m\u001b[1;34m''\u001b[0m\u001b[1;33m)\u001b[0m \u001b[1;32mas\u001b[0m \u001b[0mf_output\u001b[0m\u001b[1;33m:\u001b[0m\u001b[1;33m\u001b[0m\u001b[1;33m\u001b[0m\u001b[0m\n\u001b[0;32m      6\u001b[0m     \u001b[0mtsv_output\u001b[0m \u001b[1;33m=\u001b[0m \u001b[0mcsv\u001b[0m\u001b[1;33m.\u001b[0m\u001b[0mwriter\u001b[0m\u001b[1;33m(\u001b[0m\u001b[0mf_output\u001b[0m\u001b[1;33m,\u001b[0m \u001b[0mdelimiter\u001b[0m\u001b[1;33m=\u001b[0m\u001b[1;34m'\\t'\u001b[0m\u001b[1;33m)\u001b[0m\u001b[1;33m\u001b[0m\u001b[1;33m\u001b[0m\u001b[0m\n\u001b[1;32m----> 7\u001b[1;33m     \u001b[0mtsv_output\u001b[0m\u001b[1;33m.\u001b[0m\u001b[0mwriterow\u001b[0m\u001b[1;33m(\u001b[0m\u001b[0mdata\u001b[0m\u001b[1;33m)\u001b[0m\u001b[1;33m\u001b[0m\u001b[1;33m\u001b[0m\u001b[0m\n\u001b[0m",
      "\u001b[1;32m~\\Anaconda3\\lib\\encodings\\cp1252.py\u001b[0m in \u001b[0;36mencode\u001b[1;34m(self, input, final)\u001b[0m\n\u001b[0;32m     17\u001b[0m \u001b[1;32mclass\u001b[0m \u001b[0mIncrementalEncoder\u001b[0m\u001b[1;33m(\u001b[0m\u001b[0mcodecs\u001b[0m\u001b[1;33m.\u001b[0m\u001b[0mIncrementalEncoder\u001b[0m\u001b[1;33m)\u001b[0m\u001b[1;33m:\u001b[0m\u001b[1;33m\u001b[0m\u001b[1;33m\u001b[0m\u001b[0m\n\u001b[0;32m     18\u001b[0m     \u001b[1;32mdef\u001b[0m \u001b[0mencode\u001b[0m\u001b[1;33m(\u001b[0m\u001b[0mself\u001b[0m\u001b[1;33m,\u001b[0m \u001b[0minput\u001b[0m\u001b[1;33m,\u001b[0m \u001b[0mfinal\u001b[0m\u001b[1;33m=\u001b[0m\u001b[1;32mFalse\u001b[0m\u001b[1;33m)\u001b[0m\u001b[1;33m:\u001b[0m\u001b[1;33m\u001b[0m\u001b[1;33m\u001b[0m\u001b[0m\n\u001b[1;32m---> 19\u001b[1;33m         \u001b[1;32mreturn\u001b[0m \u001b[0mcodecs\u001b[0m\u001b[1;33m.\u001b[0m\u001b[0mcharmap_encode\u001b[0m\u001b[1;33m(\u001b[0m\u001b[0minput\u001b[0m\u001b[1;33m,\u001b[0m\u001b[0mself\u001b[0m\u001b[1;33m.\u001b[0m\u001b[0merrors\u001b[0m\u001b[1;33m,\u001b[0m\u001b[0mencoding_table\u001b[0m\u001b[1;33m)\u001b[0m\u001b[1;33m[\u001b[0m\u001b[1;36m0\u001b[0m\u001b[1;33m]\u001b[0m\u001b[1;33m\u001b[0m\u001b[1;33m\u001b[0m\u001b[0m\n\u001b[0m\u001b[0;32m     20\u001b[0m \u001b[1;33m\u001b[0m\u001b[0m\n\u001b[0;32m     21\u001b[0m \u001b[1;32mclass\u001b[0m \u001b[0mIncrementalDecoder\u001b[0m\u001b[1;33m(\u001b[0m\u001b[0mcodecs\u001b[0m\u001b[1;33m.\u001b[0m\u001b[0mIncrementalDecoder\u001b[0m\u001b[1;33m)\u001b[0m\u001b[1;33m:\u001b[0m\u001b[1;33m\u001b[0m\u001b[1;33m\u001b[0m\u001b[0m\n",
      "\u001b[1;31mUnicodeEncodeError\u001b[0m: 'charmap' codec can't encode character '\\u2264' in position 854: character maps to <undefined>"
     ]
    }
   ],
   "source": [
    "import csv        \n",
    "ld = list(d.values())\n",
    "data = [titleTag.string[:-12],intro, plot]  + ld[1:]  \n",
    "\n",
    "with open(r'output.tsv', 'w', newline='') as f_output:\n",
    "    tsv_output = csv.writer(f_output, delimiter='\\t')\n",
    "    tsv_output.writerow(data)"
   ]
  },
  {
   "cell_type": "code",
   "execution_count": 64,
   "metadata": {},
   "outputs": [
    {
     "data": {
      "text/plain": [
       "['The Gulf Between',\n",
       " 'The Gulf Between is a 1917 American comedy drama film that was the first motion picture made in Technicolor, the fourth feature-length color movie,[3] and the first feature-length color movie produced in the United States. The film was destroyed in a fire on 25 March 1961. Today, the film is considered a lost film, with only very short fragments known to survive. These fragments are in the collections of the Margaret Herrick Library, George Eastman House Motion Picture Collection, and the Smithsonian National Museum of American History Photographic History Collection.[4]',\n",
       " 'The Gulf Between, which runs for about 58 minutes,[5] was directed by Wray Physioc. The lead roles were played by Grace Darmond and Niles Welch.',\n",
       " 'Wray Physioc',\n",
       " 'NA',\n",
       " 'Anthony Paul KellyJ. Parker Read Jr.',\n",
       " 'Grace Darmond Niles Welch',\n",
       " 'NA',\n",
       " 'September\\xa013,\\xa01917\\xa0(1917-09-13)',\n",
       " '≤ 58 minutes at 32 frame/sec. (seven reels[1])[2]',\n",
       " 'United States',\n",
       " 'Silent (English intertitles)',\n",
       " 'NA']"
      ]
     },
     "execution_count": 64,
     "metadata": {},
     "output_type": "execute_result"
    }
   ],
   "source": [
    "data"
   ]
  },
  {
   "cell_type": "markdown",
   "metadata": {},
   "source": [
    "# Per tutti i film"
   ]
  },
  {
   "cell_type": "code",
   "execution_count": 48,
   "metadata": {
    "scrolled": true
   },
   "outputs": [
    {
     "name": "stdout",
     "output_type": "stream",
     "text": [
      "167 'charmap' codec can't encode character '\\u2264' in position 857: character maps to <undefined>\n",
      "218 list index out of range\n",
      "342 list index out of range\n",
      "490 'charmap' codec can't encode characters in position 226-228: character maps to <undefined>\n",
      "498 list index out of range\n",
      "667 list index out of range\n",
      "675 'charmap' codec can't encode character '\\u014d' in position 198: character maps to <undefined>\n",
      "697 'charmap' codec can't encode character '\\u014d' in position 581: character maps to <undefined>\n",
      "838 'charmap' codec can't encode character '\\u014d' in position 291: character maps to <undefined>\n",
      "850 list index out of range\n",
      "854 list index out of range\n",
      "912 list index out of range\n",
      "978 list index out of range\n",
      "1029 list index out of range\n",
      "1125 'charmap' codec can't encode character '\\u0151' in position 83: character maps to <undefined>\n",
      "1140 list index out of range\n",
      "1174 list index out of range\n",
      "1191 list index out of range\n",
      "1208 list index out of range\n",
      "1216 'charmap' codec can't encode character '\\u02c8' in position 108: character maps to <undefined>\n",
      "1297 list index out of range\n",
      "1334 list index out of range\n",
      "1343 list index out of range\n",
      "1361 list index out of range\n",
      "1420 list index out of range\n",
      "1650 list index out of range\n",
      "1738 'charmap' codec can't encode character '\\u0142' in position 127: character maps to <undefined>\n",
      "1772 list index out of range\n",
      "1817 list index out of range\n",
      "1899 list index out of range\n",
      "1939 'charmap' codec can't encode character '\\u0142' in position 432: character maps to <undefined>\n",
      "1957 'charmap' codec can't encode character '\\ufe5f' in position 12: character maps to <undefined>\n",
      "1965 list index out of range\n",
      "2037 list index out of range\n",
      "2122 'charmap' codec can't encode character '\\u0142' in position 1052: character maps to <undefined>\n",
      "2154 'charmap' codec can't encode characters in position 49-52: character maps to <undefined>\n",
      "2183 'charmap' codec can't encode character '\\u0142' in position 532: character maps to <undefined>\n",
      "2216 'charmap' codec can't encode characters in position 43-47: character maps to <undefined>\n",
      "2256 list index out of range\n",
      "2278 list index out of range\n",
      "2381 list index out of range\n",
      "2571 'charmap' codec can't encode character '\\u02bb' in position 482: character maps to <undefined>\n",
      "2618 list index out of range\n",
      "2936 list index out of range\n",
      "2983 'charmap' codec can't encode character '\\u0142' in position 1503: character maps to <undefined>\n",
      "3004 'charmap' codec can't encode character '\\u0151' in position 228: character maps to <undefined>\n",
      "3069 'charmap' codec can't encode character '\\u215e' in position 320: character maps to <undefined>\n",
      "3202 'charmap' codec can't encode characters in position 522-523: character maps to <undefined>\n",
      "3346 list index out of range\n",
      "3393 list index out of range\n",
      "3485 list index out of range\n",
      "3495 'charmap' codec can't encode character '\\u0107' in position 529: character maps to <undefined>\n",
      "3530 'charmap' codec can't encode character '\\u0171' in position 231: character maps to <undefined>\n",
      "3583 'charmap' codec can't encode character '\\u0142' in position 300: character maps to <undefined>\n",
      "3715 list index out of range\n",
      "3778 'charmap' codec can't encode character '\\u0142' in position 1275: character maps to <undefined>\n",
      "3825 list index out of range\n",
      "3975 list index out of range\n",
      "4042 'charmap' codec can't encode characters in position 55-64: character maps to <undefined>\n",
      "4124 list index out of range\n",
      "4127 list index out of range\n",
      "4316 'charmap' codec can't encode character '\\u0142' in position 876: character maps to <undefined>\n",
      "4351 list index out of range\n",
      "4446 list index out of range\n",
      "4455 list index out of range\n",
      "4462 list index out of range\n",
      "4503 list index out of range\n",
      "4555 list index out of range\n",
      "4707 list index out of range\n",
      "4775 list index out of range\n",
      "4787 list index out of range\n",
      "4879 'charmap' codec can't encode character '\\u0142' in position 375: character maps to <undefined>\n",
      "4896 list index out of range\n",
      "4905 list index out of range\n",
      "4984 'charmap' codec can't encode character '\\u20a4' in position 1034: character maps to <undefined>\n",
      "5006 list index out of range\n",
      "5135 'charmap' codec can't encode character '\\u0142' in position 782: character maps to <undefined>\n",
      "5187 list index out of range\n",
      "5414 'charmap' codec can't encode character '\\u0142' in position 328: character maps to <undefined>\n",
      "5503 'charmap' codec can't encode characters in position 42-47: character maps to <undefined>\n",
      "5529 list index out of range\n",
      "5619 list index out of range\n",
      "5675 list index out of range\n",
      "5690 'charmap' codec can't encode character '\\u016d' in position 1081: character maps to <undefined>\n",
      "5760 'charmap' codec can't encode character '\\u0142' in position 705: character maps to <undefined>\n",
      "5879 'charmap' codec can't encode character '\\u0142' in position 653: character maps to <undefined>\n",
      "5882 list index out of range\n",
      "5911 'charmap' codec can't encode character '\\u0142' in position 422: character maps to <undefined>\n",
      "6035 list index out of range\n",
      "6076 list index out of range\n",
      "6142 'charmap' codec can't encode character '\\u0142' in position 541: character maps to <undefined>\n",
      "6230 list index out of range\n",
      "6289 list index out of range\n",
      "6334 'charmap' codec can't encode character '\\u202f' in position 951: character maps to <undefined>\n",
      "6372 list index out of range\n",
      "6482 list index out of range\n",
      "6513 'charmap' codec can't encode character '\\u014d' in position 122: character maps to <undefined>\n",
      "6561 list index out of range\n",
      "6597 list index out of range\n",
      "6631 'charmap' codec can't encode character '\\u014d' in position 606: character maps to <undefined>\n",
      "6931 'charmap' codec can't encode character '\\u014d' in position 774: character maps to <undefined>\n",
      "6986 'charmap' codec can't encode character '\\u200b' in position 46: character maps to <undefined>\n",
      "7102 list index out of range\n",
      "7152 list index out of range\n",
      "7286 'charmap' codec can't encode character '\\u0142' in position 884: character maps to <undefined>\n",
      "7376 'charmap' codec can't encode character '\\u0159' in position 1025: character maps to <undefined>\n",
      "7422 'charmap' codec can't encode character '\\u014d' in position 137: character maps to <undefined>\n",
      "7435 'charmap' codec can't encode character '\\u0159' in position 1032: character maps to <undefined>\n",
      "7436 'charmap' codec can't encode character '\\u0142' in position 644: character maps to <undefined>\n",
      "7474 list index out of range\n",
      "7484 'charmap' codec can't encode character '\\u0151' in position 189: character maps to <undefined>\n",
      "7498 list index out of range\n",
      "7533 list index out of range\n",
      "7541 'charmap' codec can't encode character '\\u0159' in position 976: character maps to <undefined>\n",
      "7543 'charmap' codec can't encode character '\\u0159' in position 1576: character maps to <undefined>\n",
      "7567 'charmap' codec can't encode character '\\u0251' in position 31: character maps to <undefined>\n",
      "7571 'charmap' codec can't encode character '\\u0159' in position 990: character maps to <undefined>\n",
      "7595 'charmap' codec can't encode character '\\u02c8' in position 68: character maps to <undefined>\n",
      "7597 'charmap' codec can't encode characters in position 26-31: character maps to <undefined>\n",
      "7600 'charmap' codec can't encode character '\\u0159' in position 1115: character maps to <undefined>\n",
      "7603 'charmap' codec can't encode character '\\u0142' in position 744: character maps to <undefined>\n",
      "7612 'charmap' codec can't encode characters in position 31-36: character maps to <undefined>\n",
      "7615 list index out of range\n",
      "7699 'charmap' codec can't encode character '\\u0281' in position 32: character maps to <undefined>\n",
      "7711 'charmap' codec can't encode character '\\u0107' in position 270: character maps to <undefined>\n",
      "7720 list index out of range\n",
      "7746 list index out of range\n",
      "7831 'charmap' codec can't encode character '\\u01a7' in position 57: character maps to <undefined>\n",
      "7852 'charmap' codec can't encode character '\\u016b' in position 166: character maps to <undefined>\n",
      "7930 'charmap' codec can't encode character '\\u0107' in position 604: character maps to <undefined>\n",
      "7966 'charmap' codec can't encode character '\\u016b' in position 54: character maps to <undefined>\n",
      "8100 'charmap' codec can't encode characters in position 371-375: character maps to <undefined>\n",
      "8113 'charmap' codec can't encode character '\\u03c0' in position 590: character maps to <undefined>\n"
     ]
    },
    {
     "name": "stdout",
     "output_type": "stream",
     "text": [
      "8203 'charmap' codec can't encode characters in position 85-93: character maps to <undefined>\n",
      "8221 list index out of range\n",
      "8224 'charmap' codec can't encode character '\\u0142' in position 910: character maps to <undefined>\n",
      "8234 list index out of range\n",
      "8253 'charmap' codec can't encode character '\\u042f' in position 44: character maps to <undefined>\n",
      "8276 'charmap' codec can't encode character '\\u014d' in position 98: character maps to <undefined>\n",
      "8315 list index out of range\n",
      "8379 list index out of range\n",
      "8484 list index out of range\n",
      "8544 'charmap' codec can't encode character '\\u200a' in position 60: character maps to <undefined>\n",
      "8566 'charmap' codec can't encode characters in position 47-54: character maps to <undefined>\n",
      "8581 'charmap' codec can't encode characters in position 41-42: character maps to <undefined>\n",
      "8665 'charmap' codec can't encode character '\\u03a9' in position 45: character maps to <undefined>\n",
      "8804 'charmap' codec can't encode character '\\u014d' in position 134: character maps to <undefined>\n",
      "8818 list index out of range\n",
      "8927 'charmap' codec can't encode character '\\u0107' in position 939: character maps to <undefined>\n",
      "8945 list index out of range\n",
      "8948 list index out of range\n",
      "9054 list index out of range\n",
      "9084 list index out of range\n",
      "9150 list index out of range\n",
      "9181 list index out of range\n",
      "9267 'charmap' codec can't encode character '\\u200b' in position 45: character maps to <undefined>\n",
      "9349 list index out of range\n",
      "9350 list index out of range\n",
      "9387 list index out of range\n",
      "9429 [Errno 2] No such file or directory: 'C:\\\\Users\\\\Notebook HP\\\\Desktop\\\\Data\\\\article_9429.html'\n",
      "9485 list index out of range\n",
      "9512 'charmap' codec can't encode character '\\u014d' in position 795: character maps to <undefined>\n",
      "9524 'charmap' codec can't encode character '\\u0144' in position 139: character maps to <undefined>\n",
      "9570 'charmap' codec can't encode character '\\u20a4' in position 569: character maps to <undefined>\n",
      "9575 'charmap' codec can't encode character '\\u0103' in position 613: character maps to <undefined>\n",
      "9621 'charmap' codec can't encode character '\\u014d' in position 357: character maps to <undefined>\n",
      "9671 [Errno 2] No such file or directory: 'C:\\\\Users\\\\Notebook HP\\\\Desktop\\\\Data\\\\article_9671.html'\n",
      "9691 list index out of range\n",
      "9707 list index out of range\n",
      "9715 list index out of range\n",
      "9742 list index out of range\n",
      "9759 list index out of range\n",
      "9936 'charmap' codec can't encode characters in position 42-49: character maps to <undefined>\n",
      "9953 list index out of range\n",
      "9959 list index out of range\n"
     ]
    }
   ],
   "source": [
    "from bs4 import BeautifulSoup\n",
    "import re\n",
    "\n",
    "for j in range(10000):\n",
    "    try:\n",
    "        url = \"C:\\\\Users\\\\Notebook HP\\\\Desktop\\\\Data\\\\article_{}.html\".format(j)\n",
    "        page = open(url, encoding=\"utf8\")\n",
    "        soup = BeautifulSoup(page.read())\n",
    "        titleTag = soup.html.head.title\n",
    "\n",
    "        InPlot = soup.findAll('p')\n",
    "        l = []\n",
    "\n",
    "        intro = InPlot[0].text.strip('\\n')\n",
    "        #intro\n",
    "        plot = InPlot[1].text.strip('\\n')\n",
    "        #plot\n",
    "\n",
    "        d = {'film_name':'NA', 'Directed by': 'NA', 'Produced by': 'NA', 'Written by': 'NA', 'Starring':'NA', 'Music by': 'NA', 'Release date': 'NA', 'Running time': 'NA', 'Country': 'NA', 'Language': 'NA', 'Budget': 'NA'}\n",
    "\n",
    "        ta = soup.findAll(['th', 'td'])\n",
    "        k = []\n",
    "        for t in ta:\n",
    "            k.append(t.text.strip('\\n'))\n",
    "        if len(k) == 0:\n",
    "            continue\n",
    "        #d['film_name'] = k[0]\n",
    "        for i in k:\n",
    "            if i in d:\n",
    "                d[i] = k[k.index(i)+1]\n",
    "\n",
    "        import csv        \n",
    "        ld = list(d.values())\n",
    "        data = [titleTag.string[:-12], intro, plot]  + ld  \n",
    "   \n",
    "        with open(r'article_{}.tsv'.format(j), 'w', newline='') as f_output:\n",
    "            tsv_output = csv.writer(f_output, delimiter='\\t')\n",
    "            tsv_output.writerow(data)\n",
    "    except Exception as e:\n",
    "        print(j, e)\n",
    "        continue"
   ]
  },
  {
   "cell_type": "code",
   "execution_count": null,
   "metadata": {},
   "outputs": [],
   "source": []
  }
 ],
 "metadata": {
  "kernelspec": {
   "display_name": "Python 3",
   "language": "python",
   "name": "python3"
  },
  "language_info": {
   "codemirror_mode": {
    "name": "ipython",
    "version": 3
   },
   "file_extension": ".py",
   "mimetype": "text/x-python",
   "name": "python",
   "nbconvert_exporter": "python",
   "pygments_lexer": "ipython3",
   "version": "3.7.1"
  }
 },
 "nbformat": 4,
 "nbformat_minor": 2
}
