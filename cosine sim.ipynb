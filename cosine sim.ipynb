{
 "cells": [
  {
   "cell_type": "code",
   "execution_count": 1,
   "metadata": {},
   "outputs": [],
   "source": [
    "from lxml import html\n",
    "from bs4 import BeautifulSoup\n",
    "import requests\n",
    "import urllib.request\n",
    "import bs4\n",
    "import csv\n",
    "import pandas as pd\n",
    "import nltk\n",
    "from nltk.tokenize import sent_tokenize, word_tokenize\n",
    "from nltk.corpus import stopwords\n",
    "from nltk.stem import PorterStemmer\n",
    "import string\n",
    "import math\n",
    "import pandas as pd"
   ]
  },
  {
   "cell_type": "code",
   "execution_count": 2,
   "metadata": {},
   "outputs": [],
   "source": [
    "import collections\n",
    "import numpy as np\n",
    "\n",
    "def norma2(x):\n",
    "    s = 0\n",
    "    for i in range(len(x)):\n",
    "        s = s + x[i]*x[i]\n",
    "    return math.sqrt(s)\n",
    "\n",
    "\n",
    "\n",
    "def engine():\n",
    "    d = vocabulary\n",
    "    a = set()\n",
    "    sim = []\n",
    "    \n",
    "    s = input().strip().split()\n",
    "    ps = PorterStemmer()\n",
    "    s = [ps.stem(w) for w in s]\n",
    "    print(s)\n",
    "    if len(s) > 1: \n",
    "        a = list(set(d[s[0]]).intersection(*[set(d[s[i]]) for i in range(1,len(s)) if s[i] != 'movies']))\n",
    "        \n",
    "    else:\n",
    "        a = list(set(d[s[0]]))\n",
    "        \n",
    "    v2 = []\n",
    "    for k in range(len(a)):\n",
    "        for j in s:\n",
    "            v2.append(tfldf_vocabulary[j][a[k]])\n",
    "        v1 = np.array([1]*len(s))\n",
    "        v2 = np.array(v2)\n",
    "        den = (math.sqrt(3)*norma2(v2))\n",
    "        cosim = (sum(v2))/den\n",
    "        sim.append(cosim)\n",
    "        v2 = []\n",
    "    \n",
    "    return sim"
   ]
  },
  {
   "cell_type": "code",
   "execution_count": null,
   "metadata": {},
   "outputs": [],
   "source": []
  },
  {
   "cell_type": "code",
   "execution_count": null,
   "metadata": {},
   "outputs": [],
   "source": []
  }
 ],
 "metadata": {
  "kernelspec": {
   "display_name": "Python 3",
   "language": "python",
   "name": "python3"
  },
  "language_info": {
   "codemirror_mode": {
    "name": "ipython",
    "version": 3
   },
   "file_extension": ".py",
   "mimetype": "text/x-python",
   "name": "python",
   "nbconvert_exporter": "python",
   "pygments_lexer": "ipython3",
   "version": "3.7.1"
  }
 },
 "nbformat": 4,
 "nbformat_minor": 2
}
