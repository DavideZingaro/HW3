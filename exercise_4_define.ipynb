{
 "cells": [
  {
   "cell_type": "markdown",
   "metadata": {},
   "source": [
    "# Exercise 4"
   ]
  },
  {
   "cell_type": "markdown",
   "metadata": {},
   "source": [
    "You are given a string, s. Let's define a subsequence as the subset of characters that respects the order we find them in s. For instance, a subsequence of \"DATAMINING\" is \"TMNN\". Your goal is to define and implement an algorithm that finds the length of the longest possible subsequence that can be read in the same way forward and backwards. For example, given the string \"DATAMININGSAPIENZA\" the answer should be 7 (dAtamININgsapIenzA)."
   ]
  },
  {
   "cell_type": "markdown",
   "metadata": {},
   "source": [
    "### Define and implement the algorithm"
   ]
  },
  {
   "cell_type": "markdown",
   "metadata": {},
   "source": [
    "For this exercise, we need an algorithm that, given a string, finds the length of the longest possible palindrome subsequence.\n",
    "So, we can divide it into two tasks: looking for subsequences, and check if it's a palindrome (saving length).\n",
    "The second task is fairly easy, instead, problems arise when we actually begin to consider all the possible subsequences."
   ]
  },
  {
   "cell_type": "markdown",
   "metadata": {},
   "source": [
    "Initially we can start by considering all the possible sub-sequences of the string, and therefore it soon becomes impossible to obtain results, even for strings of only 20 characters.\n",
    "The problem with this algorithm lies in the fact that we save all possible substrings, while in reality we only need the length of the maximum palindrome sequence."
   ]
  },
  {
   "cell_type": "code",
   "execution_count": 19,
   "metadata": {},
   "outputs": [],
   "source": [
    "# Returns the length of the longest palindromic subsequence in a using intertools.combinations \n",
    "#(which keeps the order between the characters)\n",
    "from itertools import combinations \n",
    "\n",
    "def pal(a): \n",
    "    g = ()\n",
    "    \n",
    "    # Listing all the possible combinations, keeping order, and checking if they are palindrome\n",
    "    for i in range(len(a)-1,0,-1):\n",
    "        \n",
    "        # List of all possible cambinations with length i+1\n",
    "        c = list(combinations(a,i+1))\n",
    "        \n",
    "        for j in range(len(c)):\n",
    "            \n",
    "            # Checking for palindrome and for max length\n",
    "            if c[j] == c[j][::-1] and len(c[j]) > len(g):\n",
    "                g = c[j]\n",
    "                break\n",
    "        else:\n",
    "            continue\n",
    "\n",
    "        break\n",
    "\n",
    "    return len(g)"
   ]
  },
  {
   "cell_type": "code",
   "execution_count": 8,
   "metadata": {},
   "outputs": [],
   "source": [
    "a = 'DATAMININGSAPIENZA'"
   ]
  },
  {
   "cell_type": "code",
   "execution_count": 9,
   "metadata": {},
   "outputs": [
    {
     "name": "stdout",
     "output_type": "stream",
     "text": [
      "7\n"
     ]
    }
   ],
   "source": [
    "print(pal(a))"
   ]
  },
  {
   "cell_type": "markdown",
   "metadata": {},
   "source": [
    "So we can imagine having to look for a recursive algorithm, which does not save all the possible sequences and which only returns the length of the maximum palindrome succession."
   ]
  },
  {
   "cell_type": "markdown",
   "metadata": {},
   "source": [
    "In the recursive algorithm, we consider 4 cases.\n",
    "If there is only a character, its length is 1; if there are only two characters and are the same, then its length is 2.\n",
    "For strings of more than two character we consider two distint cases:\n",
    "1. When the first and the last characters are the same, we can return 2 plus another function call which is the length of the palindrome substring without these characters.\n",
    "2. When the first and the last characters don't match, the string cannot be a palindrome, so we return the max length between the possible palindrome substrings getting rid of the last character for the first substring and the first character for the second substring.\n",
    "\n",
    "So we end up calculating the max length of the maximum palindrome substring without actually storing all possible combinations."
   ]
  },
  {
   "cell_type": "code",
   "execution_count": 16,
   "metadata": {},
   "outputs": [],
   "source": [
    "# Returns the length of the longest palindromic subsequence in a  \n",
    "# i and j are indexes of a\n",
    "def recpa(a, i, j): \n",
    "      \n",
    "    #If there is only 1 character      \n",
    "    if (i == j): \n",
    "        return 1\n",
    "  \n",
    "    #If there are only 2 characters and both are same      \n",
    "    if (a[i] == a[j] and i + 1 == j): \n",
    "        return 2\n",
    "      \n",
    "    # If the first and last characters match  \n",
    "    if (a[i] == a[j]): \n",
    "        return recpa(a, i + 1, j - 1) + 2\n",
    "  \n",
    "    # If the first and last characters do not match  \n",
    "    return max(recpa(a, i, j - 1), recpa(a, i + 1, j)) "
   ]
  },
  {
   "cell_type": "code",
   "execution_count": 17,
   "metadata": {},
   "outputs": [
    {
     "name": "stdout",
     "output_type": "stream",
     "text": [
      "7\n"
     ]
    }
   ],
   "source": [
    "print(recpa(a, 0, len(a)-1))"
   ]
  },
  {
   "cell_type": "code",
   "execution_count": 18,
   "metadata": {},
   "outputs": [
    {
     "name": "stdout",
     "output_type": "stream",
     "text": [
      "18.2 ms ± 23.9 µs per loop (mean ± std. dev. of 7 runs, 100 loops each)\n"
     ]
    }
   ],
   "source": [
    "%timeit recpa(a, 0, len(a)-1)"
   ]
  },
  {
   "cell_type": "code",
   "execution_count": null,
   "metadata": {},
   "outputs": [],
   "source": []
  }
 ],
 "metadata": {
  "kernelspec": {
   "display_name": "Python 3",
   "language": "python",
   "name": "python3"
  },
  "language_info": {
   "codemirror_mode": {
    "name": "ipython",
    "version": 3
   },
   "file_extension": ".py",
   "mimetype": "text/x-python",
   "name": "python",
   "nbconvert_exporter": "python",
   "pygments_lexer": "ipython3",
   "version": "3.7.4"
  }
 },
 "nbformat": 4,
 "nbformat_minor": 2
}
